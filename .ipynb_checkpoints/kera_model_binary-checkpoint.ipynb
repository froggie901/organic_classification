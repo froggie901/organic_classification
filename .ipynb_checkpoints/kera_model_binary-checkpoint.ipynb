{
 "cells": [
  {
   "cell_type": "code",
   "execution_count": 40,
   "metadata": {
    "scrolled": true
   },
   "outputs": [],
   "source": [
    "from keras.models import Sequential\n",
    "from keras.layers import Conv2D, MaxPooling2D\n",
    "from keras.layers import Activation, Dropout, Flatten, Dense\n",
    "from keras.preprocessing.image import ImageDataGenerator\n",
    "import pickle\n",
    "\n",
    "import matplotlib.pyplot as plt\n",
    "\n",
    "import fnmatch"
   ]
  },
  {
   "cell_type": "code",
   "execution_count": 20,
   "metadata": {},
   "outputs": [],
   "source": [
    "#Number of Files in my subdirectories \n",
    "\n",
    "# print (len(fnmatch.filter(os.listdir('./images/train/ring/'), '*.png')))"
   ]
  },
  {
   "cell_type": "code",
   "execution_count": 21,
   "metadata": {},
   "outputs": [],
   "source": [
    "# print (len(fnmatch.filter(os.listdir('./images/train/not_ring/'), '*.png')))"
   ]
  },
  {
   "cell_type": "code",
   "execution_count": 22,
   "metadata": {},
   "outputs": [
    {
     "name": "stdout",
     "output_type": "stream",
     "text": [
      "Found 875 images belonging to 2 classes.\n"
     ]
    }
   ],
   "source": [
    "num_samp_train = 875\n",
    "num_samp_test = 292\n",
    "batch_size = 32\n",
    "\n",
    "#Augment Fixed or Forever? \n",
    "\n",
    "#Instantiate \n",
    "train_datagen = ImageDataGenerator(rotation_range = 30,\n",
    "                                   rescale=1./255)\n",
    "                                   \n",
    "test_datagen = ImageDataGenerator(rotation_range=30,\n",
    "                                  rescale=1./255)\n",
    "\n",
    "#Fit that class...\n",
    "train_generator = train_datagen.flow_from_directory(directory='./images/train/',\n",
    "                                                        target_size=(300, 300),\n",
    "                                                        color_mode=\"grayscale\",\n",
    "                                                        batch_size=batch_size,\n",
    "                                                        shuffle=True,\n",
    "                                                        save_to_dir = '/Users/patrickcavins/Desktop/augment/',\n",
    "                                                        save_format = '.png',\n",
    "                                                        class_mode=\"binary\")\n"
   ]
  },
  {
   "cell_type": "code",
   "execution_count": 23,
   "metadata": {},
   "outputs": [
    {
     "name": "stdout",
     "output_type": "stream",
     "text": [
      "Found 292 images belonging to 2 classes.\n"
     ]
    }
   ],
   "source": [
    "validation_generator = test_datagen.flow_from_directory(directory='./images/test/',\n",
    "                                                        target_size=(300, 300),\n",
    "                                                        color_mode=\"grayscale\",\n",
    "                                                        batch_size=batch_size,\n",
    "                                                        shuffle=True,\n",
    "                                                        save_to_dir = '/Users/patrickcavins/Desktop/augment/',\n",
    "                                                        save_format = '.png',\n",
    "                                                        class_mode=\"binary\")"
   ]
  },
  {
   "cell_type": "code",
   "execution_count": 24,
   "metadata": {},
   "outputs": [],
   "source": [
    "model = Sequential()\n",
    "\n",
    "#add more layers/filter because of image\n",
    "\n",
    "model.add(Conv2D(128, (3, 3), input_shape=(300, 300, 1)))\n",
    "model.add(Activation('relu'))\n",
    "model.add(MaxPooling2D(pool_size=(2, 2)))\n",
    "\n",
    "model.add(Conv2D(64, (3, 3))) #should I increase? It should learn more complicated relations \n",
    "model.add(Activation('relu'))\n",
    "model.add(MaxPooling2D(pool_size=(2, 2)))\n",
    "\n",
    "model.add(Conv2D(64, (3, 3))) #Same thing here... maybe 32,64, 128... \n",
    "model.add(Activation('relu'))\n",
    "model.add(MaxPooling2D(pool_size=(2, 2)))"
   ]
  },
  {
   "cell_type": "code",
   "execution_count": 25,
   "metadata": {},
   "outputs": [],
   "source": [
    "model.add(Flatten())  # this converts our 3D feature maps to 1D feature vectors\n",
    "model.add(Dense(64))\n",
    "model.add(Activation('relu'))\n",
    "model.add(Dropout(0.5)) # 50% \n",
    "model.add(Dense(1))\n",
    "model.add(Activation('sigmoid'))"
   ]
  },
  {
   "cell_type": "code",
   "execution_count": 26,
   "metadata": {},
   "outputs": [
    {
     "name": "stdout",
     "output_type": "stream",
     "text": [
      "_________________________________________________________________\n",
      "Layer (type)                 Output Shape              Param #   \n",
      "=================================================================\n",
      "conv2d_4 (Conv2D)            (None, 298, 298, 128)     1280      \n",
      "_________________________________________________________________\n",
      "activation_6 (Activation)    (None, 298, 298, 128)     0         \n",
      "_________________________________________________________________\n",
      "max_pooling2d_4 (MaxPooling2 (None, 149, 149, 128)     0         \n",
      "_________________________________________________________________\n",
      "conv2d_5 (Conv2D)            (None, 147, 147, 64)      73792     \n",
      "_________________________________________________________________\n",
      "activation_7 (Activation)    (None, 147, 147, 64)      0         \n",
      "_________________________________________________________________\n",
      "max_pooling2d_5 (MaxPooling2 (None, 73, 73, 64)        0         \n",
      "_________________________________________________________________\n",
      "conv2d_6 (Conv2D)            (None, 71, 71, 64)        36928     \n",
      "_________________________________________________________________\n",
      "activation_8 (Activation)    (None, 71, 71, 64)        0         \n",
      "_________________________________________________________________\n",
      "max_pooling2d_6 (MaxPooling2 (None, 35, 35, 64)        0         \n",
      "_________________________________________________________________\n",
      "flatten_2 (Flatten)          (None, 78400)             0         \n",
      "_________________________________________________________________\n",
      "dense_3 (Dense)              (None, 64)                5017664   \n",
      "_________________________________________________________________\n",
      "activation_9 (Activation)    (None, 64)                0         \n",
      "_________________________________________________________________\n",
      "dropout_2 (Dropout)          (None, 64)                0         \n",
      "_________________________________________________________________\n",
      "dense_4 (Dense)              (None, 1)                 65        \n",
      "_________________________________________________________________\n",
      "activation_10 (Activation)   (None, 1)                 0         \n",
      "=================================================================\n",
      "Total params: 5,129,729\n",
      "Trainable params: 5,129,729\n",
      "Non-trainable params: 0\n",
      "_________________________________________________________________\n"
     ]
    }
   ],
   "source": [
    "#Summary \n",
    "\n",
    "model.summary()"
   ]
  },
  {
   "cell_type": "code",
   "execution_count": 27,
   "metadata": {},
   "outputs": [],
   "source": [
    "model.compile(loss='binary_crossentropy', optimizer='adam', metrics=['accuracy'])"
   ]
  },
  {
   "cell_type": "code",
   "execution_count": 28,
   "metadata": {},
   "outputs": [],
   "source": [
    "##EarlyStopping "
   ]
  },
  {
   "cell_type": "code",
   "execution_count": 30,
   "metadata": {
    "scrolled": false
   },
   "outputs": [
    {
     "name": "stdout",
     "output_type": "stream",
     "text": [
      "Epoch 1/30\n",
      "10/10 [==============================] - 116s 12s/step - loss: 0.6631 - acc: 0.6594 - val_loss: 0.6770 - val_acc: 0.5925\n",
      "Epoch 2/30\n",
      "10/10 [==============================] - 125s 13s/step - loss: 0.6903 - acc: 0.5594 - val_loss: 0.6821 - val_acc: 0.6404\n",
      "Epoch 3/30\n",
      "10/10 [==============================] - 116s 12s/step - loss: 0.6775 - acc: 0.5978 - val_loss: 0.6910 - val_acc: 0.6130\n",
      "Epoch 4/30\n",
      "10/10 [==============================] - 122s 12s/step - loss: 0.6557 - acc: 0.6344 - val_loss: 0.6705 - val_acc: 0.6233\n",
      "Epoch 5/30\n",
      "10/10 [==============================] - 121s 12s/step - loss: 0.6732 - acc: 0.6188 - val_loss: 0.6559 - val_acc: 0.6541\n",
      "Epoch 6/30\n",
      "10/10 [==============================] - 114s 11s/step - loss: 0.6689 - acc: 0.6126 - val_loss: 0.6662 - val_acc: 0.6199\n",
      "Epoch 7/30\n",
      "10/10 [==============================] - 124s 12s/step - loss: 0.6436 - acc: 0.6500 - val_loss: 0.6653 - val_acc: 0.6027\n",
      "Epoch 8/30\n",
      "10/10 [==============================] - 105s 11s/step - loss: 0.6437 - acc: 0.6406 - val_loss: 0.6243 - val_acc: 0.6233\n",
      "Epoch 9/30\n",
      "10/10 [==============================] - 96s 10s/step - loss: 0.5366 - acc: 0.6755 - val_loss: 0.4347 - val_acc: 0.9007\n",
      "Epoch 10/30\n",
      "10/10 [==============================] - 109s 11s/step - loss: 0.4365 - acc: 0.7344 - val_loss: 0.3938 - val_acc: 0.8904\n",
      "Epoch 11/30\n",
      "10/10 [==============================] - 116s 12s/step - loss: 0.3342 - acc: 0.7713 - val_loss: 0.3355 - val_acc: 0.9144\n",
      "Epoch 12/30\n",
      "10/10 [==============================] - 132s 13s/step - loss: 0.2900 - acc: 0.8313 - val_loss: 0.3356 - val_acc: 0.9178\n",
      "Epoch 13/30\n",
      "10/10 [==============================] - 133s 13s/step - loss: 0.3982 - acc: 0.7812 - val_loss: 0.3588 - val_acc: 0.9041\n",
      "Epoch 14/30\n",
      "10/10 [==============================] - 118s 12s/step - loss: 0.2454 - acc: 0.9191 - val_loss: 0.2622 - val_acc: 0.9178\n",
      "Epoch 15/30\n",
      "10/10 [==============================] - 128s 13s/step - loss: 0.3241 - acc: 0.8969 - val_loss: 0.2913 - val_acc: 0.9212\n",
      "Epoch 16/30\n",
      "10/10 [==============================] - 115s 11s/step - loss: 0.2846 - acc: 0.9125 - val_loss: 0.3237 - val_acc: 0.9110\n",
      "Epoch 17/30\n",
      "10/10 [==============================] - 120s 12s/step - loss: 0.2653 - acc: 0.9057 - val_loss: 0.2927 - val_acc: 0.9075\n",
      "Epoch 18/30\n",
      "10/10 [==============================] - 133s 13s/step - loss: 0.2690 - acc: 0.9344 - val_loss: 0.2720 - val_acc: 0.9247\n",
      "Epoch 19/30\n",
      "10/10 [==============================] - 128s 13s/step - loss: 0.2342 - acc: 0.9281 - val_loss: 0.1996 - val_acc: 0.9349\n",
      "Epoch 20/30\n",
      "10/10 [==============================] - 145s 15s/step - loss: 0.2175 - acc: 0.9465 - val_loss: 0.3291 - val_acc: 0.8973\n",
      "Epoch 21/30\n",
      "10/10 [==============================] - 137s 14s/step - loss: 0.2381 - acc: 0.9187 - val_loss: 0.2058 - val_acc: 0.9315\n",
      "Epoch 22/30\n",
      "10/10 [==============================] - 120s 12s/step - loss: 0.1866 - acc: 0.9469 - val_loss: 0.3038 - val_acc: 0.9178\n",
      "Epoch 23/30\n",
      "10/10 [==============================] - 124s 12s/step - loss: 0.1504 - acc: 0.9623 - val_loss: 0.2090 - val_acc: 0.9418\n",
      "Epoch 24/30\n",
      "10/10 [==============================] - 127s 13s/step - loss: 0.2046 - acc: 0.9500 - val_loss: 0.2579 - val_acc: 0.9178\n",
      "Epoch 25/30\n",
      "10/10 [==============================] - 118s 12s/step - loss: 0.1311 - acc: 0.9505 - val_loss: 0.3201 - val_acc: 0.9007\n",
      "Epoch 26/30\n",
      "10/10 [==============================] - 123s 12s/step - loss: 0.1841 - acc: 0.9469 - val_loss: 0.2226 - val_acc: 0.9212\n",
      "Epoch 27/30\n",
      "10/10 [==============================] - 123s 12s/step - loss: 0.2264 - acc: 0.9250 - val_loss: 0.3032 - val_acc: 0.9247\n",
      "Epoch 28/30\n",
      "10/10 [==============================] - 115s 12s/step - loss: 0.1540 - acc: 0.9537 - val_loss: 0.2974 - val_acc: 0.9007\n",
      "Epoch 29/30\n",
      "10/10 [==============================] - 119s 12s/step - loss: 0.2346 - acc: 0.9375 - val_loss: 0.2168 - val_acc: 0.9212\n",
      "Epoch 30/30\n",
      "10/10 [==============================] - 119s 12s/step - loss: 0.1757 - acc: 0.9250 - val_loss: 0.2289 - val_acc: 0.9247\n"
     ]
    }
   ],
   "source": [
    "history = model.fit_generator(train_generator, steps_per_epoch= 10, \n",
    "                              epochs=30, validation_data=validation_generator, \n",
    "                                  validation_steps = 10\n",
    "                            \n",
    "                                )"
   ]
  },
  {
   "cell_type": "code",
   "execution_count": 32,
   "metadata": {},
   "outputs": [
    {
     "data": {
      "image/png": "[encoded data removed]",
      "text/plain": [
       "<Figure size 864x576 with 1 Axes>"
      ]
     },
     "metadata": {},
     "output_type": "display_data"
    }
   ],
   "source": [
    "# Check out our train loss and test loss over epochs.\n",
    "train_loss = history.history['loss']\n",
    "test_loss = history.history['val_loss']\n",
    "\n",
    "# Set figure size.\n",
    "plt.figure(figsize=(12, 8))\n",
    "\n",
    "# Generate line plot of training, testing loss over epochs.\n",
    "plt.plot(train_loss, label='Training Loss', color='#185fad')\n",
    "plt.plot(test_loss, label='Testing Loss', color='orange')\n",
    "\n",
    "# Set title\n",
    "plt.title('Training and Testing Loss by Epoch', fontsize = 25)\n",
    "plt.xlabel('Epoch', fontsize = 18)\n",
    "plt.ylabel('Binary Crossentropy', fontsize = 18)\n",
    "plt.xticks(range(30))\n",
    "\n",
    "plt.legend(fontsize = 18);"
   ]
  },
  {
   "cell_type": "code",
   "execution_count": 33,
   "metadata": {},
   "outputs": [
    {
     "name": "stdout",
     "output_type": "stream",
     "text": [
      "10/10 [==============================] - 22s 2s/step\n"
     ]
    }
   ],
   "source": [
    "#Testing \n",
    "metric = model.evaluate_generator(validation_generator, steps=10, verbose=1)"
   ]
  },
  {
   "cell_type": "code",
   "execution_count": 34,
   "metadata": {},
   "outputs": [
    {
     "name": "stdout",
     "output_type": "stream",
     "text": [
      "loss: 0.23323067981902867\n",
      "acc: 0.9315068493150684\n"
     ]
    }
   ],
   "source": [
    "labels = model.metrics_names\n",
    "\n",
    "\n",
    "# Show model performance.\n",
    "print(f'{labels[0]}: {metric[0]}')\n",
    "print(f'{labels[1]}: {metric[1]}')"
   ]
  },
  {
   "cell_type": "code",
   "execution_count": 35,
   "metadata": {},
   "outputs": [
    {
     "name": "stdout",
     "output_type": "stream",
     "text": [
      "10/10 [==============================] - 25s 2s/step\n"
     ]
    }
   ],
   "source": [
    "preds  = model.predict_generator(validation_generator, steps=10, verbose=1)"
   ]
  },
  {
   "cell_type": "code",
   "execution_count": 37,
   "metadata": {},
   "outputs": [],
   "source": [
    "## pickle / look @ keras in house for saving the data \n",
    "\n",
    "pred_class = (preds >= .5).astype(int)"
   ]
  },
  {
   "cell_type": "code",
   "execution_count": 1,
   "metadata": {},
   "outputs": [
    {
     "ename": "NameError",
     "evalue": "name 'pred_class' is not defined",
     "output_type": "error",
     "traceback": [
      "\u001b[0;31m---------------------------------------------------------------------------\u001b[0m",
      "\u001b[0;31mNameError\u001b[0m                                 Traceback (most recent call last)",
      "\u001b[0;32m<ipython-input-1-69fdf1c555c7>\u001b[0m in \u001b[0;36m<module>\u001b[0;34m()\u001b[0m\n\u001b[0;32m----> 1\u001b[0;31m \u001b[0mpred_class\u001b[0m\u001b[0;34m\u001b[0m\u001b[0m\n\u001b[0m",
      "\u001b[0;31mNameError\u001b[0m: name 'pred_class' is not defined"
     ]
    }
   ],
   "source": [
    "pred_class"
   ]
  },
  {
   "cell_type": "code",
   "execution_count": 42,
   "metadata": {},
   "outputs": [],
   "source": [
    "#Using Pickle \n",
    "\n",
    "pickle.dump( preds, open( \"./data/preds_binary_30epoch.p\", \"wb\" ))\n",
    "pickle.dump( pred_class, open(\"./data/pred_class_label_30epoch.p\", \"wb\"))"
   ]
  },
  {
   "cell_type": "code",
   "execution_count": 44,
   "metadata": {},
   "outputs": [
    {
     "name": "stdout",
     "output_type": "stream",
     "text": [
      "[[0]\n",
      " [1]\n",
      " [1]\n",
      " [0]\n",
      " [0]\n",
      " [1]\n",
      " [0]\n",
      " [1]\n",
      " [0]\n",
      " [0]\n",
      " [0]\n",
      " [0]\n",
      " [0]\n",
      " [0]\n",
      " [0]\n",
      " [1]\n",
      " [0]\n",
      " [0]\n",
      " [0]\n",
      " [0]\n",
      " [1]\n",
      " [0]\n",
      " [0]\n",
      " [0]\n",
      " [0]\n",
      " [0]\n",
      " [1]\n",
      " [1]\n",
      " [0]\n",
      " [1]\n",
      " [0]\n",
      " [1]\n",
      " [0]\n",
      " [1]\n",
      " [0]\n",
      " [0]\n",
      " [1]\n",
      " [0]\n",
      " [1]\n",
      " [0]\n",
      " [1]\n",
      " [1]\n",
      " [0]\n",
      " [1]\n",
      " [1]\n",
      " [0]\n",
      " [0]\n",
      " [0]\n",
      " [1]\n",
      " [1]\n",
      " [0]\n",
      " [1]\n",
      " [0]\n",
      " [0]\n",
      " [1]\n",
      " [1]\n",
      " [0]\n",
      " [0]\n",
      " [0]\n",
      " [0]\n",
      " [1]\n",
      " [0]\n",
      " [1]\n",
      " [0]\n",
      " [1]\n",
      " [0]\n",
      " [0]\n",
      " [1]\n",
      " [0]\n",
      " [1]\n",
      " [1]\n",
      " [1]\n",
      " [0]\n",
      " [1]\n",
      " [1]\n",
      " [0]\n",
      " [0]\n",
      " [0]\n",
      " [1]\n",
      " [1]\n",
      " [0]\n",
      " [0]\n",
      " [0]\n",
      " [0]\n",
      " [0]\n",
      " [1]\n",
      " [0]\n",
      " [0]\n",
      " [0]\n",
      " [1]\n",
      " [0]\n",
      " [1]\n",
      " [0]\n",
      " [1]\n",
      " [1]\n",
      " [0]\n",
      " [0]\n",
      " [0]\n",
      " [0]\n",
      " [1]\n",
      " [0]\n",
      " [0]\n",
      " [0]\n",
      " [1]\n",
      " [1]\n",
      " [1]\n",
      " [0]\n",
      " [1]\n",
      " [1]\n",
      " [0]\n",
      " [0]\n",
      " [0]\n",
      " [0]\n",
      " [0]\n",
      " [0]\n",
      " [0]\n",
      " [1]\n",
      " [0]\n",
      " [1]\n",
      " [1]\n",
      " [0]\n",
      " [0]\n",
      " [1]\n",
      " [0]\n",
      " [0]\n",
      " [0]\n",
      " [0]\n",
      " [1]\n",
      " [0]\n",
      " [0]\n",
      " [0]\n",
      " [1]\n",
      " [1]\n",
      " [0]\n",
      " [0]\n",
      " [1]\n",
      " [0]\n",
      " [1]\n",
      " [0]\n",
      " [1]\n",
      " [0]\n",
      " [1]\n",
      " [0]\n",
      " [1]\n",
      " [0]\n",
      " [0]\n",
      " [0]\n",
      " [0]\n",
      " [1]\n",
      " [0]\n",
      " [0]\n",
      " [1]\n",
      " [0]\n",
      " [0]\n",
      " [0]\n",
      " [0]\n",
      " [0]\n",
      " [0]\n",
      " [0]\n",
      " [0]\n",
      " [0]\n",
      " [1]\n",
      " [1]\n",
      " [0]\n",
      " [1]\n",
      " [1]\n",
      " [0]\n",
      " [0]\n",
      " [0]\n",
      " [1]\n",
      " [0]\n",
      " [1]\n",
      " [0]\n",
      " [0]\n",
      " [1]\n",
      " [0]\n",
      " [1]\n",
      " [0]\n",
      " [0]\n",
      " [1]\n",
      " [0]\n",
      " [1]\n",
      " [0]\n",
      " [0]\n",
      " [1]\n",
      " [0]\n",
      " [0]\n",
      " [1]\n",
      " [1]\n",
      " [1]\n",
      " [1]\n",
      " [0]\n",
      " [0]\n",
      " [0]\n",
      " [1]\n",
      " [0]\n",
      " [1]\n",
      " [0]\n",
      " [0]\n",
      " [1]\n",
      " [1]\n",
      " [0]\n",
      " [0]\n",
      " [0]\n",
      " [1]\n",
      " [0]\n",
      " [0]\n",
      " [0]\n",
      " [0]\n",
      " [0]\n",
      " [0]\n",
      " [0]\n",
      " [1]\n",
      " [0]\n",
      " [0]\n",
      " [0]\n",
      " [0]\n",
      " [0]\n",
      " [1]\n",
      " [0]\n",
      " [0]\n",
      " [0]\n",
      " [1]\n",
      " [1]\n",
      " [0]\n",
      " [0]\n",
      " [1]\n",
      " [1]\n",
      " [0]\n",
      " [0]\n",
      " [1]\n",
      " [0]\n",
      " [0]\n",
      " [1]\n",
      " [0]\n",
      " [1]\n",
      " [1]\n",
      " [1]\n",
      " [0]\n",
      " [0]\n",
      " [0]\n",
      " [1]\n",
      " [0]\n",
      " [0]\n",
      " [0]\n",
      " [0]\n",
      " [1]\n",
      " [1]\n",
      " [0]\n",
      " [0]\n",
      " [1]\n",
      " [1]\n",
      " [1]\n",
      " [1]\n",
      " [0]\n",
      " [1]\n",
      " [1]\n",
      " [1]\n",
      " [1]\n",
      " [1]\n",
      " [1]\n",
      " [0]\n",
      " [0]\n",
      " [1]\n",
      " [0]\n",
      " [0]\n",
      " [0]\n",
      " [0]\n",
      " [1]\n",
      " [0]\n",
      " [0]\n",
      " [0]\n",
      " [0]\n",
      " [1]\n",
      " [0]\n",
      " [0]\n",
      " [0]\n",
      " [0]\n",
      " [0]\n",
      " [1]\n",
      " [0]\n",
      " [0]\n",
      " [0]\n",
      " [0]\n",
      " [1]\n",
      " [1]\n",
      " [1]\n",
      " [0]\n",
      " [1]\n",
      " [1]\n",
      " [0]\n",
      " [0]]\n"
     ]
    }
   ],
   "source": [
    "# favorite_color = pickle.load( open( \"save.p\", \"rb\" ) )\n",
    "\n",
    "x  = pickle.load(open('./data/pred_class_label_30epoch.p', 'rb'))\n",
    "\n",
    "print (x)"
   ]
  },
  {
   "cell_type": "code",
   "execution_count": null,
   "metadata": {},
   "outputs": [],
   "source": []
  },
  {
   "cell_type": "code",
   "execution_count": null,
   "metadata": {},
   "outputs": [],
   "source": []
  },
  {
   "cell_type": "code",
   "execution_count": null,
   "metadata": {},
   "outputs": [],
   "source": []
  },
  {
   "cell_type": "code",
   "execution_count": null,
   "metadata": {},
   "outputs": [],
   "source": []
  },
  {
   "cell_type": "code",
   "execution_count": null,
   "metadata": {},
   "outputs": [],
   "source": []
  },
  {
   "cell_type": "code",
   "execution_count": null,
   "metadata": {},
   "outputs": [],
   "source": []
  },
  {
   "cell_type": "code",
   "execution_count": null,
   "metadata": {},
   "outputs": [],
   "source": []
  },
  {
   "cell_type": "code",
   "execution_count": null,
   "metadata": {},
   "outputs": [],
   "source": []
  },
  {
   "cell_type": "code",
   "execution_count": null,
   "metadata": {},
   "outputs": [],
   "source": []
  },
  {
   "cell_type": "code",
   "execution_count": null,
   "metadata": {},
   "outputs": [],
   "source": []
  },
  {
   "cell_type": "code",
   "execution_count": null,
   "metadata": {},
   "outputs": [],
   "source": []
  },
  {
   "cell_type": "code",
   "execution_count": null,
   "metadata": {},
   "outputs": [],
   "source": []
  },
  {
   "cell_type": "code",
   "execution_count": null,
   "metadata": {},
   "outputs": [],
   "source": []
  },
  {
   "cell_type": "code",
   "execution_count": 27,
   "metadata": {},
   "outputs": [],
   "source": [
    "# model.summary()"
   ]
  },
  {
   "cell_type": "code",
   "execution_count": 10,
   "metadata": {},
   "outputs": [],
   "source": [
    "# model = tf.keras.Sequential()\n",
    "\n",
    "# # Must define the input shape in the first layer of the neural network\n",
    "# model.add(tf.keras.layers.Conv2D(filters=64, kernel_size=2, padding='same', activation='relu', input_shape=(28,28,1))) \n",
    "# model.add(tf.keras.layers.MaxPooling2D(pool_size=2))\n",
    "# model.add(tf.keras.layers.Dropout(0.3))\n",
    "\n",
    "# model.add(tf.keras.layers.Conv2D(filters=32, kernel_size=2, padding='same', activation='relu'))\n",
    "# model.add(tf.keras.layers.MaxPooling2D(pool_size=2))\n",
    "# model.add(tf.keras.layers.Dropout(0.3))\n",
    "\n",
    "# model.add(tf.keras.layers.Flatten())\n",
    "# model.add(tf.keras.layers.Dense(256, activation='relu'))\n",
    "# model.add(tf.keras.layers.Dropout(0.5))\n",
    "# model.add(tf.keras.layers.Dense(10, activation='softmax'))\n",
    "\n",
    "# # Take a look at the model summary\n",
    "# model.summary()"
   ]
  },
  {
   "cell_type": "code",
   "execution_count": null,
   "metadata": {},
   "outputs": [],
   "source": []
  }
 ],
 "metadata": {
  "kernelspec": {
   "display_name": "Python 3",
   "language": "python",
   "name": "python3"
  },
  "language_info": {
   "codemirror_mode": {
    "name": "ipython",
    "version": 3
   },
   "file_extension": ".py",
   "mimetype": "text/x-python",
   "name": "python",
   "nbconvert_exporter": "python",
   "pygments_lexer": "ipython3",
   "version": "3.6.5"
  }
 },
 "nbformat": 4,
 "nbformat_minor": 2
}
