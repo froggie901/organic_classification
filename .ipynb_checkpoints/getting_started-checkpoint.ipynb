{
 "cells": [
  {
   "cell_type": "markdown",
   "metadata": {},
   "source": [
    "## The overall goal of this notebook is to start hash the beautiful soup\n",
    "\n",
    "- We need to scrap a webiste which "
   ]
  },
  {
   "cell_type": "code",
   "execution_count": 1,
   "metadata": {},
   "outputs": [],
   "source": [
    "# !pip install Selenium"
   ]
  },
  {
   "cell_type": "code",
   "execution_count": 1,
   "metadata": {},
   "outputs": [],
   "source": [
    "#Import Libraries \n",
    "\n",
    "import pandas as pd \n",
    "import requests\n",
    "from bs4 import BeautifulSoup"
   ]
  },
  {
   "cell_type": "code",
   "execution_count": 2,
   "metadata": {},
   "outputs": [
    {
     "name": "stdout",
     "output_type": "stream",
     "text": [
      "200\n"
     ]
    }
   ],
   "source": [
    "# making a reqest to the website \n",
    "url = 'https://www.sigmaaldrich.com/catalog/product/aldrich/m39407?lang=en&region=US'\n",
    "res = requests.get(url)\n",
    "\n",
    "print (res.status_code)\n",
    "\n",
    "\n",
    "#creating a soup object (what does that do again?)\n",
    "soup = BeautifulSoup(res.content, 'lxml')"
   ]
  },
  {
   "cell_type": "code",
   "execution_count": 19,
   "metadata": {},
   "outputs": [],
   "source": [
    "# print (res.content)"
   ]
  },
  {
   "cell_type": "code",
   "execution_count": 24,
   "metadata": {},
   "outputs": [
    {
     "name": "stdout",
     "output_type": "stream",
     "text": [
      "\n",
      " M39407 \n",
      " Sigma-Aldrich \n",
      "\n",
      "    Methylcyclopentane\n",
      "    \n",
      "\n",
      "\n",
      "\n",
      "\n",
      "\t97%\n",
      "\n",
      "\n",
      "\n",
      "\n",
      "CAS Number  96-37-7 \n",
      "\n",
      "\n",
      "Linear Formula  C5H9CH3 \n",
      "\n",
      "\n",
      "Molecular Weight  84.16 \n",
      "\n",
      "\n",
      " Beilstein Registry Number  1900214 \n",
      "\n",
      "\n",
      " EC Number  202-503-2 \n",
      "\n",
      "\n",
      " MDL number  MFCD00001382 \n",
      "\n",
      "\n",
      " PubChem Substance ID  24896889 \n",
      "\n",
      "\n",
      "\n",
      "{'class': ['productInfo']}\n"
     ]
    }
   ],
   "source": [
    "#Step 1 -> Find the Common Name, and other relevant chemical information\n",
    "\n",
    "name = soup.find('div', {'class': 'productInfo'})\n",
    "\n",
    "print (name.text)\n",
    "\n",
    "print (name.attrs)"
   ]
  },
  {
   "cell_type": "code",
   "execution_count": 20,
   "metadata": {},
   "outputs": [
    {
     "data": {
      "text/plain": [
       "'\\n\\n\\n\\n\\n\\n\\n\\n\\n\\n\\n\\n\\n\\n\\n'"
      ]
     },
     "execution_count": 20,
     "metadata": {},
     "output_type": "execute_result"
    }
   ],
   "source": [
    "# find the tag : <img ... >\n",
    "# ol = soup.find('ol', {'class': 'done'}) <=== EXAMPLE FROM RILEYS LECTURE \n",
    "img_tags = soup.find('div', {'class': 'productMedia'})\n",
    "\n",
    "# all_tags = soup.findAll()\n",
    "\n",
    "#which attrs do I want \n",
    "img_tags.text"
   ]
  },
  {
   "cell_type": "code",
   "execution_count": 10,
   "metadata": {},
   "outputs": [
    {
     "name": "stdout",
     "output_type": "stream",
     "text": [
      "None\n"
     ]
    }
   ],
   "source": []
  },
  {
   "cell_type": "code",
   "execution_count": null,
   "metadata": {},
   "outputs": [],
   "source": [
    "# image_tags = soup.findAll('img')\n",
    "# # print out image urls\n",
    "# for image_tag in image_tags:\n",
    "#     print(image_tag.get('src'))"
   ]
  }
 ],
 "metadata": {
  "kernelspec": {
   "display_name": "Python 3",
   "language": "python",
   "name": "python3"
  },
  "language_info": {
   "codemirror_mode": {
    "name": "ipython",
    "version": 3
   },
   "file_extension": ".py",
   "mimetype": "text/x-python",
   "name": "python",
   "nbconvert_exporter": "python",
   "pygments_lexer": "ipython3",
   "version": "3.6.5"
  }
 },
 "nbformat": 4,
 "nbformat_minor": 2
}
