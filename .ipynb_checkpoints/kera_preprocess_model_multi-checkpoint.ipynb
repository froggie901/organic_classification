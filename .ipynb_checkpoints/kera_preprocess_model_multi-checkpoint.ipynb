{
 "cells": [
  {
   "cell_type": "markdown",
   "metadata": {},
   "source": [
    "# Data prep for the Multi-Label Neural Network\n",
    "\n",
    "## Part 1 - Data Prep\n",
    "\n",
    "### ImageDataGen \n",
    "### flow_from_dataframe \n",
    "\n",
    "\n",
    "## Part 2  - Data Augment \n",
    "\n",
    "\n",
    "\n",
    "## Part 3  - Neural Network \n",
    "\n",
    "\n",
    "\n",
    "#### Updated: May 14, 2019\n",
    "#### By: Patrick L. Cavins "
   ]
  },
  {
   "cell_type": "code",
   "execution_count": 1,
   "metadata": {},
   "outputs": [
    {
     "name": "stderr",
     "output_type": "stream",
     "text": [
      "/anaconda3/lib/python3.6/site-packages/h5py/__init__.py:36: FutureWarning: Conversion of the second argument of issubdtype from `float` to `np.floating` is deprecated. In future, it will be treated as `np.float64 == np.dtype(float).type`.\n",
      "  from ._conv import register_converters as _register_converters\n",
      "Using TensorFlow backend.\n"
     ]
    }
   ],
   "source": [
    "##import libraries \n",
    "\n",
    "#dataprep\n",
    "import pandas as pd \n",
    "from sklearn.model_selection import train_test_split\n",
    "import numpy as np \n",
    "\n",
    "##keras stuff \n",
    "from keras.models import Sequential\n",
    "from keras.layers import Conv2D, MaxPooling2D\n",
    "from keras.layers import Activation, Dropout, Flatten, Dense\n",
    "from keras.preprocessing.image import ImageDataGenerator\n",
    "\n",
    "#saving prediction output \n",
    "import pickle\n",
    "\n",
    "#graphing\n",
    "import matplotlib.pyplot as plt"
   ]
  },
  {
   "cell_type": "markdown",
   "metadata": {},
   "source": [
    "## Data Prep\n",
    "\n",
    "### Import the dataframe from csv"
   ]
  },
  {
   "cell_type": "code",
   "execution_count": 2,
   "metadata": {},
   "outputs": [],
   "source": [
    "image_df = pd.read_csv('./data_multi_label/full_image_df.csv')\n",
    "image_df = image_df.drop(columns='Unnamed: 0')\n",
    "\n",
    "image_df.head()\n",
    "\n",
    "image_df.image_saved_as = image_df.image_saved_as.apply(lambda x: x +'.png')"
   ]
  },
  {
   "cell_type": "code",
   "execution_count": 3,
   "metadata": {},
   "outputs": [
    {
     "name": "stdout",
     "output_type": "stream",
     "text": [
      "(2313, 17)\n",
      "--------------------------------------------------\n",
      "Confirming the status of null values in the dataframe\n",
      "AKA               0\n",
      "AKE               0\n",
      "AKH               0\n",
      "AKY               0\n",
      "ALC               0\n",
      "AMN               0\n",
      "BNZ               0\n",
      "COC               0\n",
      "COH               0\n",
      "COO               0\n",
      "COONH2            0\n",
      "KEY               0\n",
      "OH                0\n",
      "SHH               0\n",
      "cid               0\n",
      "image_saved_as    0\n",
      "ring              0\n",
      "dtype: int64\n",
      "--------------------------------------------------\n",
      "The current break break down of this multi-label classifcation problem\n",
      "AKA                                                            1346\n",
      "AKE                                                             249\n",
      "AKH                                                             222\n",
      "AKY                                                             189\n",
      "ALC                                                              38\n",
      "AMN                                                             325\n",
      "BNZ                                                            1231\n",
      "COC                                                             433\n",
      "COH                                                             181\n",
      "COO                                                             518\n",
      "COONH2                                                          186\n",
      "KEY                                                             271\n",
      "OH                                                               12\n",
      "SHH                                                             283\n",
      "cid                                                    130197711729\n",
      "image_saved_as    3_bromo_2_butanone_13156.png3_bromo_2_butanone...\n",
      "ring                                                           1709\n",
      "dtype: object\n"
     ]
    }
   ],
   "source": [
    "print (image_df.shape)\n",
    "\n",
    "print (\"--\"*25)\n",
    "print ('Confirming the status of null values in the dataframe')\n",
    "\n",
    "print (image_df.isnull().sum())\n",
    "\n",
    "print (\"--\"*25)\n",
    "\n",
    "print ('The current break break down of this multi-label classifcation problem')\n",
    "\n",
    "print (image_df.sum())"
   ]
  },
  {
   "cell_type": "markdown",
   "metadata": {},
   "source": [
    "### train_test_split \n",
    "\n",
    "- We are initially only going to select some features from the dataframe to build the first iteration of the neural network\n",
    "    - We are going to be using the following columns, 'AKA', 'AKE', 'ring', 'BNZ'"
   ]
  },
  {
   "cell_type": "code",
   "execution_count": 4,
   "metadata": {},
   "outputs": [],
   "source": [
    "# Setting up the Train/Test/Split\n",
    "\n",
    "#features for the neural network, in this case this is what we are trying to predict\n",
    "features = ['ring', 'BNZ', 'AKA', 'AKE']\n",
    "\n",
    "#this will be aliased as y_col later, needed for the flow_from_dataframe\n",
    "X = image_df[features]\n",
    "\n",
    "#this will be aliases as x_col later, needed for the flow_from_dataframe \n",
    "y = image_df['image_saved_as']"
   ]
  },
  {
   "cell_type": "code",
   "execution_count": 5,
   "metadata": {},
   "outputs": [],
   "source": [
    "X_train, X_test, y_train, y_test = train_test_split(X, y, random_state=19)"
   ]
  },
  {
   "cell_type": "code",
   "execution_count": 7,
   "metadata": {},
   "outputs": [
    {
     "data": {
      "text/html": [
       "<div>\n",
       "<style scoped>\n",
       "    .dataframe tbody tr th:only-of-type {\n",
       "        vertical-align: middle;\n",
       "    }\n",
       "\n",
       "    .dataframe tbody tr th {\n",
       "        vertical-align: top;\n",
       "    }\n",
       "\n",
       "    .dataframe thead th {\n",
       "        text-align: right;\n",
       "    }\n",
       "</style>\n",
       "<table border=\"1\" class=\"dataframe\">\n",
       "  <thead>\n",
       "    <tr style=\"text-align: right;\">\n",
       "      <th></th>\n",
       "      <th>ring</th>\n",
       "      <th>BNZ</th>\n",
       "      <th>AKA</th>\n",
       "      <th>AKE</th>\n",
       "    </tr>\n",
       "  </thead>\n",
       "  <tbody>\n",
       "    <tr>\n",
       "      <th>1303</th>\n",
       "      <td>1.0</td>\n",
       "      <td>0.0</td>\n",
       "      <td>0.0</td>\n",
       "      <td>1.0</td>\n",
       "    </tr>\n",
       "    <tr>\n",
       "      <th>1751</th>\n",
       "      <td>1.0</td>\n",
       "      <td>1.0</td>\n",
       "      <td>0.0</td>\n",
       "      <td>0.0</td>\n",
       "    </tr>\n",
       "    <tr>\n",
       "      <th>1962</th>\n",
       "      <td>0.0</td>\n",
       "      <td>0.0</td>\n",
       "      <td>1.0</td>\n",
       "      <td>1.0</td>\n",
       "    </tr>\n",
       "    <tr>\n",
       "      <th>1447</th>\n",
       "      <td>1.0</td>\n",
       "      <td>1.0</td>\n",
       "      <td>0.0</td>\n",
       "      <td>0.0</td>\n",
       "    </tr>\n",
       "    <tr>\n",
       "      <th>1653</th>\n",
       "      <td>1.0</td>\n",
       "      <td>0.0</td>\n",
       "      <td>1.0</td>\n",
       "      <td>0.0</td>\n",
       "    </tr>\n",
       "  </tbody>\n",
       "</table>\n",
       "</div>"
      ],
      "text/plain": [
       "      ring  BNZ  AKA  AKE\n",
       "1303   1.0  0.0  0.0  1.0\n",
       "1751   1.0  1.0  0.0  0.0\n",
       "1962   0.0  0.0  1.0  1.0\n",
       "1447   1.0  1.0  0.0  0.0\n",
       "1653   1.0  0.0  1.0  0.0"
      ]
     },
     "execution_count": 7,
     "metadata": {},
     "output_type": "execute_result"
    }
   ],
   "source": [
    "X_train.head()"
   ]
  },
  {
   "cell_type": "code",
   "execution_count": 24,
   "metadata": {
    "scrolled": true
   },
   "outputs": [
    {
     "name": "stderr",
     "output_type": "stream",
     "text": [
      "/anaconda3/lib/python3.6/site-packages/ipykernel_launcher.py:2: SettingWithCopyWarning: \n",
      "A value is trying to be set on a copy of a slice from a DataFrame.\n",
      "Try using .loc[row_indexer,col_indexer] = value instead\n",
      "\n",
      "See the caveats in the documentation: http://pandas.pydata.org/pandas-docs/stable/indexing.html#indexing-view-versus-copy\n",
      "  \n"
     ]
    }
   ],
   "source": [
    "X_train['label'] = X_train[X_train.columns[:]].apply(lambda x: ','.join(x.astype('str')), \n",
    "                                                   axis=1)"
   ]
  },
  {
   "cell_type": "code",
   "execution_count": 38,
   "metadata": {},
   "outputs": [
    {
     "name": "stderr",
     "output_type": "stream",
     "text": [
      "/anaconda3/lib/python3.6/site-packages/ipykernel_launcher.py:2: SettingWithCopyWarning: \n",
      "A value is trying to be set on a copy of a slice from a DataFrame.\n",
      "Try using .loc[row_indexer,col_indexer] = value instead\n",
      "\n",
      "See the caveats in the documentation: http://pandas.pydata.org/pandas-docs/stable/indexing.html#indexing-view-versus-copy\n",
      "  \n"
     ]
    }
   ],
   "source": [
    "X_test['label'] = X_test[X_test.columns[:]].apply(lambda x: ','.join(x.astype('str')), \n",
    "                                                   axis=1)"
   ]
  },
  {
   "cell_type": "markdown",
   "metadata": {},
   "source": [
    "### Concat the DFs back together! "
   ]
  },
  {
   "cell_type": "code",
   "execution_count": 39,
   "metadata": {},
   "outputs": [
    {
     "data": {
      "text/html": [
       "<div>\n",
       "<style scoped>\n",
       "    .dataframe tbody tr th:only-of-type {\n",
       "        vertical-align: middle;\n",
       "    }\n",
       "\n",
       "    .dataframe tbody tr th {\n",
       "        vertical-align: top;\n",
       "    }\n",
       "\n",
       "    .dataframe thead th {\n",
       "        text-align: right;\n",
       "    }\n",
       "</style>\n",
       "<table border=\"1\" class=\"dataframe\">\n",
       "  <thead>\n",
       "    <tr style=\"text-align: right;\">\n",
       "      <th></th>\n",
       "      <th>ring</th>\n",
       "      <th>BNZ</th>\n",
       "      <th>AKA</th>\n",
       "      <th>AKE</th>\n",
       "      <th>label</th>\n",
       "      <th>image_saved_as</th>\n",
       "    </tr>\n",
       "  </thead>\n",
       "  <tbody>\n",
       "    <tr>\n",
       "      <th>1100</th>\n",
       "      <td>1.0</td>\n",
       "      <td>1.0</td>\n",
       "      <td>1.0</td>\n",
       "      <td>0.0</td>\n",
       "      <td>1.0,1.0,1.0,0.0</td>\n",
       "      <td>4_tert_butylbenzoic_acid_8167110.png</td>\n",
       "    </tr>\n",
       "    <tr>\n",
       "      <th>917</th>\n",
       "      <td>0.0</td>\n",
       "      <td>1.0</td>\n",
       "      <td>0.0</td>\n",
       "      <td>1.0</td>\n",
       "      <td>0.0,1.0,0.0,1.0</td>\n",
       "      <td>phenyl_vinyl_sulfoxide_5370672.png</td>\n",
       "    </tr>\n",
       "    <tr>\n",
       "      <th>622</th>\n",
       "      <td>1.0</td>\n",
       "      <td>1.0</td>\n",
       "      <td>0.0</td>\n",
       "      <td>0.0</td>\n",
       "      <td>1.0,1.0,0.0,0.0</td>\n",
       "      <td>benzamide_522832.png</td>\n",
       "    </tr>\n",
       "    <tr>\n",
       "      <th>269</th>\n",
       "      <td>1.0</td>\n",
       "      <td>1.0</td>\n",
       "      <td>0.0</td>\n",
       "      <td>0.0</td>\n",
       "      <td>1.0,1.0,0.0,0.0</td>\n",
       "      <td>diphenyl_ether_20298601.png</td>\n",
       "    </tr>\n",
       "    <tr>\n",
       "      <th>1347</th>\n",
       "      <td>1.0</td>\n",
       "      <td>1.0</td>\n",
       "      <td>1.0</td>\n",
       "      <td>0.0</td>\n",
       "      <td>1.0,1.0,1.0,0.0</td>\n",
       "      <td>3_butynyl_tosylate_20501275.png</td>\n",
       "    </tr>\n",
       "  </tbody>\n",
       "</table>\n",
       "</div>"
      ],
      "text/plain": [
       "      ring  BNZ  AKA  AKE            label  \\\n",
       "1100   1.0  1.0  1.0  0.0  1.0,1.0,1.0,0.0   \n",
       "917    0.0  1.0  0.0  1.0  0.0,1.0,0.0,1.0   \n",
       "622    1.0  1.0  0.0  0.0  1.0,1.0,0.0,0.0   \n",
       "269    1.0  1.0  0.0  0.0  1.0,1.0,0.0,0.0   \n",
       "1347   1.0  1.0  1.0  0.0  1.0,1.0,1.0,0.0   \n",
       "\n",
       "                            image_saved_as  \n",
       "1100  4_tert_butylbenzoic_acid_8167110.png  \n",
       "917     phenyl_vinyl_sulfoxide_5370672.png  \n",
       "622                   benzamide_522832.png  \n",
       "269            diphenyl_ether_20298601.png  \n",
       "1347       3_butynyl_tosylate_20501275.png  "
      ]
     },
     "execution_count": 39,
     "metadata": {},
     "output_type": "execute_result"
    }
   ],
   "source": [
    "full_test_df = pd.concat([X_test, y_test], axis=1)\n",
    "\n",
    "full_test_df.head()"
   ]
  },
  {
   "cell_type": "code",
   "execution_count": 40,
   "metadata": {},
   "outputs": [
    {
     "data": {
      "text/html": [
       "<div>\n",
       "<style scoped>\n",
       "    .dataframe tbody tr th:only-of-type {\n",
       "        vertical-align: middle;\n",
       "    }\n",
       "\n",
       "    .dataframe tbody tr th {\n",
       "        vertical-align: top;\n",
       "    }\n",
       "\n",
       "    .dataframe thead th {\n",
       "        text-align: right;\n",
       "    }\n",
       "</style>\n",
       "<table border=\"1\" class=\"dataframe\">\n",
       "  <thead>\n",
       "    <tr style=\"text-align: right;\">\n",
       "      <th></th>\n",
       "      <th>ring</th>\n",
       "      <th>BNZ</th>\n",
       "      <th>AKA</th>\n",
       "      <th>AKE</th>\n",
       "      <th>label</th>\n",
       "      <th>image_saved_as</th>\n",
       "    </tr>\n",
       "  </thead>\n",
       "  <tbody>\n",
       "    <tr>\n",
       "      <th>1303</th>\n",
       "      <td>1.0</td>\n",
       "      <td>0.0</td>\n",
       "      <td>0.0</td>\n",
       "      <td>1.0</td>\n",
       "      <td>1.0,0.0,0.0,1.0</td>\n",
       "      <td>thiophene_87460260.png</td>\n",
       "    </tr>\n",
       "    <tr>\n",
       "      <th>1751</th>\n",
       "      <td>1.0</td>\n",
       "      <td>1.0</td>\n",
       "      <td>0.0</td>\n",
       "      <td>0.0</td>\n",
       "      <td>1.0,1.0,0.0,0.0</td>\n",
       "      <td>metanilamide_7377.png</td>\n",
       "    </tr>\n",
       "    <tr>\n",
       "      <th>1962</th>\n",
       "      <td>0.0</td>\n",
       "      <td>0.0</td>\n",
       "      <td>1.0</td>\n",
       "      <td>1.0</td>\n",
       "      <td>0.0,0.0,1.0,1.0</td>\n",
       "      <td>isoprene_10582734.png</td>\n",
       "    </tr>\n",
       "    <tr>\n",
       "      <th>1447</th>\n",
       "      <td>1.0</td>\n",
       "      <td>1.0</td>\n",
       "      <td>0.0</td>\n",
       "      <td>0.0</td>\n",
       "      <td>1.0,1.0,0.0,0.0</td>\n",
       "      <td>benzaldehyde_20447206.png</td>\n",
       "    </tr>\n",
       "    <tr>\n",
       "      <th>1653</th>\n",
       "      <td>1.0</td>\n",
       "      <td>0.0</td>\n",
       "      <td>1.0</td>\n",
       "      <td>0.0</td>\n",
       "      <td>1.0,0.0,1.0,0.0</td>\n",
       "      <td>hexanoic_acid_87093515.png</td>\n",
       "    </tr>\n",
       "  </tbody>\n",
       "</table>\n",
       "</div>"
      ],
      "text/plain": [
       "      ring  BNZ  AKA  AKE            label              image_saved_as\n",
       "1303   1.0  0.0  0.0  1.0  1.0,0.0,0.0,1.0      thiophene_87460260.png\n",
       "1751   1.0  1.0  0.0  0.0  1.0,1.0,0.0,0.0       metanilamide_7377.png\n",
       "1962   0.0  0.0  1.0  1.0  0.0,0.0,1.0,1.0       isoprene_10582734.png\n",
       "1447   1.0  1.0  0.0  0.0  1.0,1.0,0.0,0.0   benzaldehyde_20447206.png\n",
       "1653   1.0  0.0  1.0  0.0  1.0,0.0,1.0,0.0  hexanoic_acid_87093515.png"
      ]
     },
     "execution_count": 40,
     "metadata": {},
     "output_type": "execute_result"
    }
   ],
   "source": [
    "full_train_df = pd.concat([X_train, y_train], axis=1)\n",
    "\n",
    "full_train_df.head()"
   ]
  },
  {
   "cell_type": "markdown",
   "metadata": {},
   "source": [
    "### Making The Label List"
   ]
  },
  {
   "cell_type": "code",
   "execution_count": 33,
   "metadata": {},
   "outputs": [],
   "source": [
    "## Training for loop... \n",
    "\n",
    "label_list = []\n",
    "for entry in full_train_df['label']:\n",
    "#     print (entry)\n",
    "    new_label = list(entry)\n",
    "    label_list.append(new_label)\n",
    "    \n",
    "full_train_df['label_list'] = label_list    "
   ]
  },
  {
   "cell_type": "code",
   "execution_count": 35,
   "metadata": {},
   "outputs": [
    {
     "data": {
      "text/plain": [
       "list"
      ]
     },
     "execution_count": 35,
     "metadata": {},
     "output_type": "execute_result"
    }
   ],
   "source": [
    "type(full_train_df['label_list'][0])"
   ]
  },
  {
   "cell_type": "code",
   "execution_count": 44,
   "metadata": {},
   "outputs": [],
   "source": [
    "## testing loop \n",
    "\n",
    "label_list = []\n",
    "for entry in full_test_df['label']:\n",
    "#     print (entry)\n",
    "    new_label = list(entry)\n",
    "    label_list.append(new_label)\n",
    "    \n",
    "full_test_df['label_list'] = label_list"
   ]
  },
  {
   "cell_type": "code",
   "execution_count": 45,
   "metadata": {},
   "outputs": [
    {
     "data": {
      "text/html": [
       "<div>\n",
       "<style scoped>\n",
       "    .dataframe tbody tr th:only-of-type {\n",
       "        vertical-align: middle;\n",
       "    }\n",
       "\n",
       "    .dataframe tbody tr th {\n",
       "        vertical-align: top;\n",
       "    }\n",
       "\n",
       "    .dataframe thead th {\n",
       "        text-align: right;\n",
       "    }\n",
       "</style>\n",
       "<table border=\"1\" class=\"dataframe\">\n",
       "  <thead>\n",
       "    <tr style=\"text-align: right;\">\n",
       "      <th></th>\n",
       "      <th>ring</th>\n",
       "      <th>BNZ</th>\n",
       "      <th>AKA</th>\n",
       "      <th>AKE</th>\n",
       "      <th>label</th>\n",
       "      <th>image_saved_as</th>\n",
       "      <th>label_list</th>\n",
       "    </tr>\n",
       "  </thead>\n",
       "  <tbody>\n",
       "    <tr>\n",
       "      <th>1100</th>\n",
       "      <td>1.0</td>\n",
       "      <td>1.0</td>\n",
       "      <td>1.0</td>\n",
       "      <td>0.0</td>\n",
       "      <td>1.0,1.0,1.0,0.0</td>\n",
       "      <td>4_tert_butylbenzoic_acid_8167110.png</td>\n",
       "      <td>[1, ., 0, ,, 1, ., 0, ,, 1, ., 0, ,, 0, ., 0]</td>\n",
       "    </tr>\n",
       "    <tr>\n",
       "      <th>917</th>\n",
       "      <td>0.0</td>\n",
       "      <td>1.0</td>\n",
       "      <td>0.0</td>\n",
       "      <td>1.0</td>\n",
       "      <td>0.0,1.0,0.0,1.0</td>\n",
       "      <td>phenyl_vinyl_sulfoxide_5370672.png</td>\n",
       "      <td>[0, ., 0, ,, 1, ., 0, ,, 0, ., 0, ,, 1, ., 0]</td>\n",
       "    </tr>\n",
       "    <tr>\n",
       "      <th>622</th>\n",
       "      <td>1.0</td>\n",
       "      <td>1.0</td>\n",
       "      <td>0.0</td>\n",
       "      <td>0.0</td>\n",
       "      <td>1.0,1.0,0.0,0.0</td>\n",
       "      <td>benzamide_522832.png</td>\n",
       "      <td>[1, ., 0, ,, 1, ., 0, ,, 0, ., 0, ,, 0, ., 0]</td>\n",
       "    </tr>\n",
       "    <tr>\n",
       "      <th>269</th>\n",
       "      <td>1.0</td>\n",
       "      <td>1.0</td>\n",
       "      <td>0.0</td>\n",
       "      <td>0.0</td>\n",
       "      <td>1.0,1.0,0.0,0.0</td>\n",
       "      <td>diphenyl_ether_20298601.png</td>\n",
       "      <td>[1, ., 0, ,, 1, ., 0, ,, 0, ., 0, ,, 0, ., 0]</td>\n",
       "    </tr>\n",
       "    <tr>\n",
       "      <th>1347</th>\n",
       "      <td>1.0</td>\n",
       "      <td>1.0</td>\n",
       "      <td>1.0</td>\n",
       "      <td>0.0</td>\n",
       "      <td>1.0,1.0,1.0,0.0</td>\n",
       "      <td>3_butynyl_tosylate_20501275.png</td>\n",
       "      <td>[1, ., 0, ,, 1, ., 0, ,, 1, ., 0, ,, 0, ., 0]</td>\n",
       "    </tr>\n",
       "  </tbody>\n",
       "</table>\n",
       "</div>"
      ],
      "text/plain": [
       "      ring  BNZ  AKA  AKE            label  \\\n",
       "1100   1.0  1.0  1.0  0.0  1.0,1.0,1.0,0.0   \n",
       "917    0.0  1.0  0.0  1.0  0.0,1.0,0.0,1.0   \n",
       "622    1.0  1.0  0.0  0.0  1.0,1.0,0.0,0.0   \n",
       "269    1.0  1.0  0.0  0.0  1.0,1.0,0.0,0.0   \n",
       "1347   1.0  1.0  1.0  0.0  1.0,1.0,1.0,0.0   \n",
       "\n",
       "                            image_saved_as  \\\n",
       "1100  4_tert_butylbenzoic_acid_8167110.png   \n",
       "917     phenyl_vinyl_sulfoxide_5370672.png   \n",
       "622                   benzamide_522832.png   \n",
       "269            diphenyl_ether_20298601.png   \n",
       "1347       3_butynyl_tosylate_20501275.png   \n",
       "\n",
       "                                         label_list  \n",
       "1100  [1, ., 0, ,, 1, ., 0, ,, 1, ., 0, ,, 0, ., 0]  \n",
       "917   [0, ., 0, ,, 1, ., 0, ,, 0, ., 0, ,, 1, ., 0]  \n",
       "622   [1, ., 0, ,, 1, ., 0, ,, 0, ., 0, ,, 0, ., 0]  \n",
       "269   [1, ., 0, ,, 1, ., 0, ,, 0, ., 0, ,, 0, ., 0]  \n",
       "1347  [1, ., 0, ,, 1, ., 0, ,, 1, ., 0, ,, 0, ., 0]  "
      ]
     },
     "execution_count": 45,
     "metadata": {},
     "output_type": "execute_result"
    }
   ],
   "source": [
    "full_test_df.head()"
   ]
  },
  {
   "cell_type": "markdown",
   "metadata": {},
   "source": [
    "## Part 2:  Data Augment "
   ]
  },
  {
   "cell_type": "code",
   "execution_count": 17,
   "metadata": {},
   "outputs": [],
   "source": [
    "#Instantiate \n",
    "train_datagen = ImageDataGenerator(rotation_range = 30,\n",
    "                                   rescale=1./255)\n",
    "                                   \n",
    "test_datagen = ImageDataGenerator(rotation_range=30,\n",
    "                                  rescale=1./255)"
   ]
  },
  {
   "cell_type": "code",
   "execution_count": 37,
   "metadata": {
    "scrolled": true
   },
   "outputs": [
    {
     "name": "stdout",
     "output_type": "stream",
     "text": [
      "Found 1734 images belonging to 4 classes.\n"
     ]
    }
   ],
   "source": [
    "#We need to fit the ImageDataGenerator Class to the X_train, X_test... ect.\n",
    "\n",
    "#Starting off with X_train/y_train => They are flipped \n",
    "\n",
    "batch = 16\n",
    "\n",
    "training_generator = train_datagen.flow_from_dataframe(\n",
    "    full_train_df, \n",
    "    directory = './images_multi_label/',\n",
    "    x_col = 'image_saved_as',\n",
    "    y_col = 'label_list',\n",
    "    target_size = (300,300),\n",
    "    color_mode = 'grayscale',\n",
    "    class_mode = 'categorical',\n",
    "    batch_size = batch,\n",
    "#     drop_duplicates = False,\n",
    "    save_to_dir = '/Users/patrickcavins/Desktop/augment/',\n",
    "    save_format = '.png'\n",
    ")\n"
   ]
  },
  {
   "cell_type": "code",
   "execution_count": null,
   "metadata": {},
   "outputs": [],
   "source": [
    "#Testin Time! \n",
    "\n",
    "training_generator = train_datagen.flow_from_dataframe(\n",
    "    full_train_df, \n",
    "    directory = './images_multi_label/',\n",
    "    x_col = 'image_saved_as',\n",
    "    y_col = 'label_list',\n",
    "    target_size = (300,300),\n",
    "    color_mode = 'grayscale',\n",
    "    class_mode = 'categorical',\n",
    "    batch_size = batch,\n",
    "#     drop_duplicates = False,\n",
    "    save_to_dir = '/Users/patrickcavins/Desktop/augment/',\n",
    "    save_format = '.png'\n",
    ")"
   ]
  }
 ],
 "metadata": {
  "kernelspec": {
   "display_name": "Python 3",
   "language": "python",
   "name": "python3"
  },
  "language_info": {
   "codemirror_mode": {
    "name": "ipython",
    "version": 3
   },
   "file_extension": ".py",
   "mimetype": "text/x-python",
   "name": "python",
   "nbconvert_exporter": "python",
   "pygments_lexer": "ipython3",
   "version": "3.6.5"
  }
 },
 "nbformat": 4,
 "nbformat_minor": 2
}
