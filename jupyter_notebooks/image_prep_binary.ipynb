{
 "cells": [
  {
   "cell_type": "markdown",
   "metadata": {},
   "source": [
    "## Image Preparation Binary \n",
    "\n",
    "### Need to organize the images for the `.flow_from_directory` method described in the keras documentation "
   ]
  },
  {
   "cell_type": "code",
   "execution_count": 1,
   "metadata": {},
   "outputs": [],
   "source": [
    "import pandas as pd\n",
    "from sklearn.model_selection import train_test_split\n",
    "from shutil import copyfile"
   ]
  },
  {
   "cell_type": "markdown",
   "metadata": {},
   "source": [
    "### Import dataframe from .csv \n",
    "\n",
    "**Gather the baseline accuracy for the binary classification CNN**"
   ]
  },
  {
   "cell_type": "code",
   "execution_count": 2,
   "metadata": {},
   "outputs": [],
   "source": [
    "full_df = pd.read_csv('./data/full_df.csv')\n",
    "\n",
    "print (full_df.shape)\n",
    "\n",
    "print (\"--\"*25)\n",
    "\n",
    "print (full_df.isnull().sum())\n",
    "\n",
    "full_df.dropna(inplace=True)\n",
    "\n",
    "print (\"--\"*25)\n",
    "print(\"The Baseline Accuracy is Currently:\")\n",
    "print (full_df['ring'].value_counts(normalize=True))"
   ]
  },
  {
   "cell_type": "code",
   "execution_count": 4,
   "metadata": {},
   "outputs": [
    {
     "data": {
      "text/html": [
       "<div>\n",
       "<style scoped>\n",
       "    .dataframe tbody tr th:only-of-type {\n",
       "        vertical-align: middle;\n",
       "    }\n",
       "\n",
       "    .dataframe tbody tr th {\n",
       "        vertical-align: top;\n",
       "    }\n",
       "\n",
       "    .dataframe thead th {\n",
       "        text-align: right;\n",
       "    }\n",
       "</style>\n",
       "<table border=\"1\" class=\"dataframe\">\n",
       "  <thead>\n",
       "    <tr style=\"text-align: right;\">\n",
       "      <th></th>\n",
       "      <th>cid</th>\n",
       "      <th>ring</th>\n",
       "      <th>image_saved_as</th>\n",
       "      <th>iupac</th>\n",
       "      <th>mf</th>\n",
       "    </tr>\n",
       "  </thead>\n",
       "  <tbody>\n",
       "    <tr>\n",
       "      <th>0</th>\n",
       "      <td>8004</td>\n",
       "      <td>0</td>\n",
       "      <td>1_pentene_8004</td>\n",
       "      <td>pent-1-ene</td>\n",
       "      <td>C5H10</td>\n",
       "    </tr>\n",
       "    <tr>\n",
       "      <th>1</th>\n",
       "      <td>11597</td>\n",
       "      <td>0</td>\n",
       "      <td>1_pentene_11597</td>\n",
       "      <td>hex-1-ene</td>\n",
       "      <td>C6H12</td>\n",
       "    </tr>\n",
       "    <tr>\n",
       "      <th>2</th>\n",
       "      <td>7844</td>\n",
       "      <td>0</td>\n",
       "      <td>1_pentene_7844</td>\n",
       "      <td>but-1-ene</td>\n",
       "      <td>C4H8</td>\n",
       "    </tr>\n",
       "    <tr>\n",
       "      <th>3</th>\n",
       "      <td>11610</td>\n",
       "      <td>0</td>\n",
       "      <td>1_pentene_11610</td>\n",
       "      <td>hept-1-ene</td>\n",
       "      <td>C7H14</td>\n",
       "    </tr>\n",
       "    <tr>\n",
       "      <th>4</th>\n",
       "      <td>11598</td>\n",
       "      <td>0</td>\n",
       "      <td>1_pentene_11598</td>\n",
       "      <td>hexa-1,5-diene</td>\n",
       "      <td>C6H10</td>\n",
       "    </tr>\n",
       "  </tbody>\n",
       "</table>\n",
       "</div>"
      ],
      "text/plain": [
       "     cid  ring   image_saved_as           iupac     mf\n",
       "0   8004     0   1_pentene_8004      pent-1-ene  C5H10\n",
       "1  11597     0  1_pentene_11597       hex-1-ene  C6H12\n",
       "2   7844     0   1_pentene_7844       but-1-ene   C4H8\n",
       "3  11610     0  1_pentene_11610      hept-1-ene  C7H14\n",
       "4  11598     0  1_pentene_11598  hexa-1,5-diene  C6H10"
      ]
     },
     "execution_count": 4,
     "metadata": {},
     "output_type": "execute_result"
    }
   ],
   "source": [
    "full_df.head()"
   ]
  },
  {
   "cell_type": "markdown",
   "metadata": {},
   "source": [
    "### Using sklearn's `train_test_split` to modify the dataframe so that the `.flow_from_directory` method can be used in Keras"
   ]
  },
  {
   "cell_type": "markdown",
   "metadata": {},
   "source": [
    "The directory need to be set up as follows:\n",
    "```\n",
    ".\n",
    "|-- images\n",
    "    |-- train\n",
    "        |-- ring\n",
    "        |-- not_ring\n",
    "    |-- test\n",
    "        |-- ring\n",
    "        |-- not_ring \n",
    "```\n",
    "\n"
   ]
  },
  {
   "cell_type": "code",
   "execution_count": 5,
   "metadata": {},
   "outputs": [],
   "source": [
    "# Setting up the Train/Test/Split\n",
    "features = [col for col in full_df.columns if col != \"ring\"]\n",
    "X = full_df[features]\n",
    "y = full_df[\"ring\"]"
   ]
  },
  {
   "cell_type": "code",
   "execution_count": 6,
   "metadata": {},
   "outputs": [
    {
     "name": "stdout",
     "output_type": "stream",
     "text": [
      "Features Shape\n",
      "(1167, 4)\n",
      "--------------------------------------------------\n",
      "Predictors Shape\n",
      "(1167,)\n"
     ]
    }
   ],
   "source": [
    "print (\"Features Shape\")\n",
    "print(X.shape)\n",
    "\n",
    "print (\"--\"*25)\n",
    "\n",
    "print (\"Predictors Shape\")\n",
    "print (y.shape)"
   ]
  },
  {
   "cell_type": "code",
   "execution_count": 7,
   "metadata": {},
   "outputs": [],
   "source": [
    "X_train, X_test, y_train, y_test = train_test_split(X, y, random_state = 2019)"
   ]
  },
  {
   "cell_type": "code",
   "execution_count": 8,
   "metadata": {},
   "outputs": [],
   "source": [
    "# X_train.head()"
   ]
  },
  {
   "cell_type": "code",
   "execution_count": 9,
   "metadata": {},
   "outputs": [
    {
     "data": {
      "text/plain": [
       "(875, 4)"
      ]
     },
     "execution_count": 9,
     "metadata": {},
     "output_type": "execute_result"
    }
   ],
   "source": [
    "# X_train.shape"
   ]
  },
  {
   "cell_type": "code",
   "execution_count": 11,
   "metadata": {},
   "outputs": [
    {
     "name": "stdout",
     "output_type": "stream",
     "text": [
      "Comparing the full datafame to the Train/Test\n",
      "--------------------------------------------------\n",
      "full dataframe compared to X_train\n",
      "--------------------------------------------------\n",
      "1167\n",
      "875\n",
      "--------------------------------------------------\n",
      "full dataframe compared to X_test\n",
      "--------------------------------------------------\n",
      "1167\n",
      "292\n"
     ]
    }
   ],
   "source": [
    "full = set(full_df['cid'])\n",
    "train = set(X_train['cid'])\n",
    "test = set(X_test['cid'])\n",
    "\n",
    "print (\"Comparing the full datafame to the Train/Test\")\n",
    "print (\"--\"*25)\n",
    "print (\"full dataframe compared to X_train\")\n",
    "print (\"--\"*25)\n",
    "print (len(full))\n",
    "print (len(full.intersection(train)))\n",
    "print (\"--\"*25)\n",
    "print (\"full dataframe compared to X_test\")\n",
    "print (\"--\"*25)\n",
    "print (len(full))\n",
    "print (len(full.intersection(test)))"
   ]
  },
  {
   "cell_type": "code",
   "execution_count": 12,
   "metadata": {},
   "outputs": [],
   "source": [
    "# Images to Copy  for the ImageGenerator after Train Test Split....\n",
    "copy_train = full.intersection(train)\n",
    "copy_test = full.intersection(test)"
   ]
  },
  {
   "cell_type": "code",
   "execution_count": 13,
   "metadata": {
    "scrolled": true
   },
   "outputs": [
    {
     "name": "stdout",
     "output_type": "stream",
     "text": [
      "1167\n"
     ]
    }
   ],
   "source": [
    "count = 0\n",
    "for i,entry in enumerate(full_df['cid']):\n",
    "    \n",
    "    #Initial Split Train vs. Validation\n",
    "    if entry in list(copy_train):\n",
    "        \n",
    "        #Grab file_name\n",
    "        index_var = i\n",
    "        img_record = str(full_df['image_saved_as'].iloc[index_var])+\".png\"\n",
    "        \n",
    "        # Traing Data_Ring/Not Ring                 \n",
    "        if full_df['ring'].iloc[i] == 0:\n",
    "            copyfile(f\"./images/{img_record}\", f\"./images/train/ring/{img_record}\")\n",
    "        else:\n",
    "            copyfile(f\"./images/{img_record}\", f\"./images/train/not_ring/{img_record}\")\n",
    "    \n",
    "    count += 1\n",
    "\n",
    "print(count)\n",
    "\n",
    "\n"
   ]
  },
  {
   "cell_type": "code",
   "execution_count": 14,
   "metadata": {},
   "outputs": [
    {
     "name": "stdout",
     "output_type": "stream",
     "text": [
      "1167\n"
     ]
    }
   ],
   "source": [
    "count = 0\n",
    "for i,entry in enumerate(full_df['cid']):\n",
    "    \n",
    "    #Initial Split Train vs. Validation\n",
    "    if entry in list(copy_test):\n",
    "        \n",
    "        #Grab file_name\n",
    "        index_var = i\n",
    "        img_record = str(full_df['image_saved_as'].iloc[index_var])+\".png\"\n",
    "        \n",
    "        # Traing Data_Ring/Not Ring                 \n",
    "        if full_df['ring'].iloc[i] == 0:\n",
    "            copyfile(f\"./images/{img_record}\", f\"./images/test/ring/{img_record}\")\n",
    "        else:\n",
    "            copyfile(f\"./images/{img_record}\", f\"./images/test/not_ring/{img_record}\")\n",
    "    \n",
    "\n",
    "    \n",
    "    \n",
    "    count += 1\n",
    "\n",
    "print(count)"
   ]
  },
  {
   "cell_type": "code",
   "execution_count": null,
   "metadata": {},
   "outputs": [],
   "source": [
    "#     else entry in list(copy_test):\n",
    "\n",
    "#         #Grab file_name\n",
    "#         index_var = i\n",
    "#         img_record = str(full_df['image_saved_as'].iloc[index_var])+\".png\"\n",
    "            \n",
    "#         #Ring/Not Ring\n",
    "#         if full_df['ring'].iloc[i] == 0:\n",
    "#             print (\"Test\")\n",
    "#             copyfile(f\"./images/{img_record}\", f\"./images/train/ring/{img_record}\")\n",
    "#         else:\n",
    "#             copyfile(f\"./images/{img_record}\", f\"./images/train/not_ring/{img_record}\") "
   ]
  }
 ],
 "metadata": {
  "kernelspec": {
   "display_name": "Python 3",
   "language": "python",
   "name": "python3"
  },
  "language_info": {
   "codemirror_mode": {
    "name": "ipython",
    "version": 3
   },
   "file_extension": ".py",
   "mimetype": "text/x-python",
   "name": "python",
   "nbconvert_exporter": "python",
   "pygments_lexer": "ipython3",
   "version": "3.6.5"
  }
 },
 "nbformat": 4,
 "nbformat_minor": 2
}
