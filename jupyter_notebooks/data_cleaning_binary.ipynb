{
 "cells": [
  {
   "cell_type": "markdown",
   "metadata": {},
   "source": [
    "# data_cleaning_binary\n",
    "\n",
    "## By: Patrick Cavins"
   ]
  },
  {
   "cell_type": "markdown",
   "metadata": {},
   "source": [
    "### What needs to be done? \n",
    "\n",
    "After bringing in some initial images using the PubChem PUGRest API a coulple data munging concerns came up. \n",
    "\n",
    "- Nonstandard Isotopes \n",
    "- Two imgages in a single output file"
   ]
  },
  {
   "cell_type": "code",
   "execution_count": 2,
   "metadata": {},
   "outputs": [],
   "source": [
    "# Import \n",
    "\n",
    "import pandas as pd\n",
    "import requests\n",
    "import os\n",
    "import time\n",
    "import regex as re "
   ]
  },
  {
   "cell_type": "code",
   "execution_count": 3,
   "metadata": {},
   "outputs": [],
   "source": [
    "file_name = '2_methylbutyl_cyclopentene_134887291.csv'"
   ]
  },
  {
   "cell_type": "code",
   "execution_count": 4,
   "metadata": {},
   "outputs": [],
   "source": [
    "df = pd.read_csv(f'./data/{file_name}')\n",
    "\n",
    "df.drop(columns='Unnamed: 0', inplace=True)"
   ]
  },
  {
   "cell_type": "code",
   "execution_count": 5,
   "metadata": {},
   "outputs": [
    {
     "data": {
      "text/html": [
       "<div>\n",
       "<style scoped>\n",
       "    .dataframe tbody tr th:only-of-type {\n",
       "        vertical-align: middle;\n",
       "    }\n",
       "\n",
       "    .dataframe tbody tr th {\n",
       "        vertical-align: top;\n",
       "    }\n",
       "\n",
       "    .dataframe thead th {\n",
       "        text-align: right;\n",
       "    }\n",
       "</style>\n",
       "<table border=\"1\" class=\"dataframe\">\n",
       "  <thead>\n",
       "    <tr style=\"text-align: right;\">\n",
       "      <th></th>\n",
       "      <th>cid</th>\n",
       "      <th>ring</th>\n",
       "      <th>image_saved_as</th>\n",
       "    </tr>\n",
       "  </thead>\n",
       "  <tbody>\n",
       "    <tr>\n",
       "      <th>0</th>\n",
       "      <td>19540</td>\n",
       "      <td>1</td>\n",
       "      <td>2_methylbutyl_cyclopentene_19540</td>\n",
       "    </tr>\n",
       "    <tr>\n",
       "      <th>1</th>\n",
       "      <td>16270</td>\n",
       "      <td>1</td>\n",
       "      <td>2_methylbutyl_cyclopentene_16270</td>\n",
       "    </tr>\n",
       "    <tr>\n",
       "      <th>2</th>\n",
       "      <td>16269</td>\n",
       "      <td>1</td>\n",
       "      <td>2_methylbutyl_cyclopentene_16269</td>\n",
       "    </tr>\n",
       "    <tr>\n",
       "      <th>3</th>\n",
       "      <td>137211</td>\n",
       "      <td>1</td>\n",
       "      <td>2_methylbutyl_cyclopentene_137211</td>\n",
       "    </tr>\n",
       "    <tr>\n",
       "      <th>4</th>\n",
       "      <td>77414</td>\n",
       "      <td>1</td>\n",
       "      <td>2_methylbutyl_cyclopentene_77414</td>\n",
       "    </tr>\n",
       "  </tbody>\n",
       "</table>\n",
       "</div>"
      ],
      "text/plain": [
       "      cid  ring                     image_saved_as\n",
       "0   19540     1   2_methylbutyl_cyclopentene_19540\n",
       "1   16270     1   2_methylbutyl_cyclopentene_16270\n",
       "2   16269     1   2_methylbutyl_cyclopentene_16269\n",
       "3  137211     1  2_methylbutyl_cyclopentene_137211\n",
       "4   77414     1   2_methylbutyl_cyclopentene_77414"
      ]
     },
     "execution_count": 5,
     "metadata": {},
     "output_type": "execute_result"
    }
   ],
   "source": [
    "df.head()"
   ]
  },
  {
   "cell_type": "code",
   "execution_count": 6,
   "metadata": {},
   "outputs": [
    {
     "data": {
      "text/plain": [
       "(189, 3)"
      ]
     },
     "execution_count": 6,
     "metadata": {},
     "output_type": "execute_result"
    }
   ],
   "source": [
    "df.shape"
   ]
  },
  {
   "cell_type": "code",
   "execution_count": 7,
   "metadata": {},
   "outputs": [
    {
     "name": "stdout",
     "output_type": "stream",
     "text": [
      "19540\n",
      "16270\n",
      "16269\n",
      "137211\n",
      "77414\n",
      "521217\n",
      "517741\n",
      "138541\n",
      "138257\n",
      "137755\n",
      "137210\n",
      "19893859\n",
      "6427086\n",
      "530396\n",
      "523528\n",
      "523527\n",
      "521236\n",
      "54101622\n",
      "20837636\n",
      "19893766\n",
      "19893555\n",
      "14764015\n",
      "6537508\n",
      "6431020\n",
      "6427085\n",
      "544055\n",
      "523530\n",
      "523529\n",
      "523489\n",
      "521449\n",
      "520404\n",
      "520128\n",
      "123224949\n",
      "91199232\n",
      "90713669\n",
      "60007293\n",
      "59994267\n",
      "59954505\n",
      "59954503\n",
      "59954496\n",
      "59954495\n",
      "59954478\n",
      "59954469\n",
      "59954454\n",
      "59954450\n",
      "59954445\n",
      "59954414\n",
      "59936799\n",
      "59911458\n",
      "59911321\n",
      "59746976\n",
      "59117969\n",
      "59066598\n",
      "59039354\n",
      "59039321\n",
      "58688977\n",
      "58639765\n",
      "58504179\n",
      "57285679\n",
      "57198894\n",
      "57162921\n",
      "57125758\n",
      "57115232\n",
      "57045719\n",
      "54526457\n",
      "54252328\n",
      "53678344\n",
      "23384891\n",
      "23384890\n",
      "23267477\n",
      "22212143\n",
      "22129074\n",
      "22129047\n",
      "19893868\n",
      "19893808\n",
      "19893667\n",
      "19893613\n",
      "19893595\n",
      "19893531\n",
      "18730047\n",
      "18730042\n",
      "523526\n",
      "129777607\n",
      "129716583\n",
      "124007590\n",
      "123984630\n",
      "123968381\n",
      "123950095\n",
      "123943353\n",
      "123942691\n",
      "123913323\n",
      "123866552\n",
      "123857423\n",
      "123853415\n",
      "123833176\n",
      "123811136\n",
      "123786274\n",
      "123781570\n",
      "123777478\n",
      "123726806\n",
      "123691427\n",
      "123663745\n",
      "123660410\n",
      "123625055\n",
      "123561961\n",
      "123543629\n",
      "123505979\n",
      "123455735\n",
      "123434097\n",
      "123427642\n",
      "123376011\n",
      "123372890\n",
      "123356282\n",
      "123352159\n",
      "123351561\n",
      "123344000\n",
      "123335593\n",
      "123335256\n",
      "123334876\n",
      "123334091\n",
      "123331883\n",
      "123327315\n",
      "123278295\n",
      "123268931\n",
      "123247111\n",
      "123222009\n",
      "123217200\n",
      "123199909\n",
      "123149528\n",
      "102375905\n",
      "102375903\n",
      "102375902\n",
      "91525079\n",
      "91521521\n",
      "91472804\n",
      "91421460\n",
      "91416126\n",
      "91368966\n",
      "91351667\n",
      "91337363\n",
      "91324014\n",
      "91315313\n",
      "91315149\n",
      "91293975\n",
      "91093782\n",
      "91080148\n",
      "90993539\n",
      "90959296\n",
      "90886959\n",
      "90867074\n",
      "90699792\n",
      "90690533\n",
      "85947730\n",
      "23231120\n",
      "20396308\n",
      "14325896\n",
      "14325892\n",
      "6427196\n",
      "6427195\n",
      "6427193\n",
      "6427186\n",
      "6427722\n",
      "6427726\n",
      "10950624\n",
      "11027687\n",
      "11042899\n",
      "11188642\n",
      "11223190\n",
      "14325891\n",
      "21572738\n",
      "21607535\n",
      "22129060\n",
      "22129134\n",
      "23230863\n",
      "56846131\n",
      "57418697\n",
      "57426373\n",
      "57426379\n",
      "57426383\n",
      "57427588\n",
      "57455281\n",
      "57455282\n",
      "91324015\n",
      "102268007\n",
      "102268008\n",
      "102375904\n",
      "124519004\n",
      "124556686\n",
      "134887291\n"
     ]
    }
   ],
   "source": [
    "iupac = []\n",
    "mf = []\n",
    "\n",
    "for i in df['cid']:\n",
    "    \n",
    "    #Print\n",
    "    print (i)\n",
    "    \n",
    "    #constructing the url for the specific CID \n",
    "    entry = i\n",
    "    url_iupac = f'https://pubchem.ncbi.nlm.nih.gov/rest/pug/compound/cid/{entry}/property/IUPACName/TXT'\n",
    "    url_MF = f'https://pubchem.ncbi.nlm.nih.gov/rest/pug/compound/cid/{entry}/property/MolecularFormula/TXT'\n",
    "    \n",
    "    #calling the PUG Rest PubChem API\n",
    "    api_call_iupac = requests.get(url_iupac)\n",
    "    api_call_MF = requests.get(url_MF)\n",
    "    \n",
    "    #Saving the output to a variable\n",
    "    iupac_list = api_call_iupac.text\n",
    "    MF_list = api_call_MF.text\n",
    "    \n",
    "    iupac.append(iupac_list)\n",
    "    mf.append(MF_list)\n",
    "    \n",
    "        \n",
    "    time.sleep(0.2)\n",
    "\n",
    "#adding variables to the data frame   \n",
    "df['iupac'] = iupac\n",
    "df['mf'] = mf  \n",
    "# df['canonical_smiles'] = smiles "
   ]
  },
  {
   "cell_type": "code",
   "execution_count": 8,
   "metadata": {},
   "outputs": [
    {
     "data": {
      "text/plain": [
       "(189, 5)"
      ]
     },
     "execution_count": 8,
     "metadata": {},
     "output_type": "execute_result"
    }
   ],
   "source": [
    "df.shape"
   ]
  },
  {
   "cell_type": "code",
   "execution_count": 55,
   "metadata": {},
   "outputs": [],
   "source": [
    "df.to_csv(f'./data/updated/updated_{file_name}', index=False)"
   ]
  },
  {
   "cell_type": "markdown",
   "metadata": {},
   "source": [
    "#### So this is FALSE \n",
    "```pattern = r';'\n",
    "string = '3-methylidenepent-1-ene'\n",
    "print (re.search(pattern=pattern, string=string))```\n",
    "\n",
    "#### So this is TRUE\n",
    "```pattern = r';'\n",
    "string = 'magnesium;pent-1-ene;bromide'\n",
    "print (re.search(pattern=pattern, string=string))```"
   ]
  },
  {
   "cell_type": "code",
   "execution_count": 56,
   "metadata": {},
   "outputs": [],
   "source": [
    "#Start Here... "
   ]
  },
  {
   "cell_type": "code",
   "execution_count": 57,
   "metadata": {},
   "outputs": [],
   "source": [
    "df = pd.read_csv(f'./data/updated/updated_{file_name}')"
   ]
  },
  {
   "cell_type": "code",
   "execution_count": 58,
   "metadata": {},
   "outputs": [
    {
     "data": {
      "text/html": [
       "<div>\n",
       "<style scoped>\n",
       "    .dataframe tbody tr th:only-of-type {\n",
       "        vertical-align: middle;\n",
       "    }\n",
       "\n",
       "    .dataframe tbody tr th {\n",
       "        vertical-align: top;\n",
       "    }\n",
       "\n",
       "    .dataframe thead th {\n",
       "        text-align: right;\n",
       "    }\n",
       "</style>\n",
       "<table border=\"1\" class=\"dataframe\">\n",
       "  <thead>\n",
       "    <tr style=\"text-align: right;\">\n",
       "      <th></th>\n",
       "      <th>cid</th>\n",
       "      <th>ring</th>\n",
       "      <th>image_saved_as</th>\n",
       "      <th>iupac</th>\n",
       "      <th>mf</th>\n",
       "    </tr>\n",
       "  </thead>\n",
       "  <tbody>\n",
       "    <tr>\n",
       "      <th>0</th>\n",
       "      <td>19540</td>\n",
       "      <td>1</td>\n",
       "      <td>2_methylbutyl_cyclopentene_19540</td>\n",
       "      <td>pentylcyclopentane</td>\n",
       "      <td>C10H20</td>\n",
       "    </tr>\n",
       "    <tr>\n",
       "      <th>1</th>\n",
       "      <td>16270</td>\n",
       "      <td>1</td>\n",
       "      <td>2_methylbutyl_cyclopentene_16270</td>\n",
       "      <td>propylcyclopentane</td>\n",
       "      <td>C8H16</td>\n",
       "    </tr>\n",
       "    <tr>\n",
       "      <th>2</th>\n",
       "      <td>16269</td>\n",
       "      <td>1</td>\n",
       "      <td>2_methylbutyl_cyclopentene_16269</td>\n",
       "      <td>butylcyclopentane</td>\n",
       "      <td>C9H18</td>\n",
       "    </tr>\n",
       "    <tr>\n",
       "      <th>3</th>\n",
       "      <td>137211</td>\n",
       "      <td>1</td>\n",
       "      <td>2_methylbutyl_cyclopentene_137211</td>\n",
       "      <td>decylcyclopentane</td>\n",
       "      <td>C15H30</td>\n",
       "    </tr>\n",
       "    <tr>\n",
       "      <th>4</th>\n",
       "      <td>77414</td>\n",
       "      <td>1</td>\n",
       "      <td>2_methylbutyl_cyclopentene_77414</td>\n",
       "      <td>2-methylpropylcyclopentane</td>\n",
       "      <td>C9H18</td>\n",
       "    </tr>\n",
       "  </tbody>\n",
       "</table>\n",
       "</div>"
      ],
      "text/plain": [
       "      cid  ring                     image_saved_as  \\\n",
       "0   19540     1   2_methylbutyl_cyclopentene_19540   \n",
       "1   16270     1   2_methylbutyl_cyclopentene_16270   \n",
       "2   16269     1   2_methylbutyl_cyclopentene_16269   \n",
       "3  137211     1  2_methylbutyl_cyclopentene_137211   \n",
       "4   77414     1   2_methylbutyl_cyclopentene_77414   \n",
       "\n",
       "                        iupac      mf  \n",
       "0          pentylcyclopentane  C10H20  \n",
       "1          propylcyclopentane   C8H16  \n",
       "2           butylcyclopentane   C9H18  \n",
       "3           decylcyclopentane  C15H30  \n",
       "4  2-methylpropylcyclopentane   C9H18  "
      ]
     },
     "execution_count": 58,
     "metadata": {},
     "output_type": "execute_result"
    }
   ],
   "source": [
    "df['mf']=df['mf'].map(lambda x: x.replace('\\n', ''))\n",
    "df['iupac']=df['iupac'].map(lambda x: x.replace('\\n', ''))\n",
    "\n",
    "df.head()"
   ]
  },
  {
   "cell_type": "code",
   "execution_count": 59,
   "metadata": {},
   "outputs": [
    {
     "data": {
      "text/plain": [
       "(189, 5)"
      ]
     },
     "execution_count": 59,
     "metadata": {},
     "output_type": "execute_result"
    }
   ],
   "source": [
    "df.shape"
   ]
  },
  {
   "cell_type": "code",
   "execution_count": 60,
   "metadata": {},
   "outputs": [],
   "source": [
    "# pattern = r';'\n",
    "# string = '3-methylidenepent-1-ene'\n",
    "# bool(re.findall(pattern=pattern, string=string))\n",
    "\n",
    "# pattern = r';'\n",
    "# string = 'hex-1-ene;zinc;iodide'\n",
    "# bool(re.findall(pattern=pattern, string=string))"
   ]
  },
  {
   "cell_type": "code",
   "execution_count": 61,
   "metadata": {},
   "outputs": [
    {
     "name": "stdout",
     "output_type": "stream",
     "text": [
      "[33, 34, 172]\n",
      "----------------------------------------------------------------------------------------------------\n",
      "3\n"
     ]
    }
   ],
   "source": [
    "#These are index values which we will want to eventually drop \n",
    "index_val = []\n",
    "\n",
    "#Regex Pattern\n",
    "pattern = r';'\n",
    "\n",
    "#Searching to Evaluate for the IUPAC Names which contain ';' = False Positive Images\n",
    "for index, row in df.iterrows():\n",
    "\n",
    "    #using regex to find the false_positives\n",
    "    if bool(re.findall(pattern=pattern, string=row[3]))==1:\n",
    "        index_val.append(index)\n",
    "\n",
    "#Identify the index values for the rows that we want to keep\n",
    "indexes_to_keep =set(range(df.shape[0])) - set(index_val)\n",
    "df_sliced = df.take(list(indexes_to_keep))\n",
    "\n",
    "#Building the dataframe of false_positives\n",
    "false_positives = pd.DataFrame.from_dict(dict(df.iloc[index_val]))\n",
    "\n",
    "\n",
    "#Save to CSV\n",
    "df_sliced.to_csv(f'./data/cleaned/cleaned_{file_name}', index=False)\n",
    "false_positives.to_csv(f'./data/false_positives/false_positives_{file_name}', index=False)\n",
    "    \n",
    "\n",
    "#Print Out index list created from the for loop   \n",
    "print (index_val)\n",
    "print ('-'*50)\n",
    "print (len(index_val))\n",
    "\n",
    "\n",
    "# Inspiration, 1 = 'https://www.pythonprogramming.in/pandas-examples/how-to-append-rows-in-a-pandas-dataframe-using-a-for-loop.html'\n",
    "# Inspiration, 2 = https://stackoverflow.com/questions/37727018/pandas-dataframe-move-rows-from-one-dataframe-to-another?rq=1\n",
    "# Inspiration, 3 = https://stackoverflow.com/questions/14661701/how-to-drop-a-list-of-rows-from-pandas-dataframe"
   ]
  },
  {
   "cell_type": "code",
   "execution_count": 62,
   "metadata": {},
   "outputs": [
    {
     "name": "stdout",
     "output_type": "stream",
     "text": [
      "(186, 5)\n"
     ]
    }
   ],
   "source": [
    "df_sliced.head()\n",
    "\n",
    "print (df_sliced.shape) "
   ]
  },
  {
   "cell_type": "code",
   "execution_count": 63,
   "metadata": {},
   "outputs": [
    {
     "name": "stdout",
     "output_type": "stream",
     "text": [
      "(3, 5)\n"
     ]
    }
   ],
   "source": [
    "false_positives.head()\n",
    "print (false_positives.shape)"
   ]
  },
  {
   "cell_type": "code",
   "execution_count": 64,
   "metadata": {},
   "outputs": [
    {
     "data": {
      "text/html": [
       "<div>\n",
       "<style scoped>\n",
       "    .dataframe tbody tr th:only-of-type {\n",
       "        vertical-align: middle;\n",
       "    }\n",
       "\n",
       "    .dataframe tbody tr th {\n",
       "        vertical-align: top;\n",
       "    }\n",
       "\n",
       "    .dataframe thead th {\n",
       "        text-align: right;\n",
       "    }\n",
       "</style>\n",
       "<table border=\"1\" class=\"dataframe\">\n",
       "  <thead>\n",
       "    <tr style=\"text-align: right;\">\n",
       "      <th></th>\n",
       "      <th>cid</th>\n",
       "      <th>ring</th>\n",
       "      <th>image_saved_as</th>\n",
       "      <th>iupac</th>\n",
       "      <th>mf</th>\n",
       "    </tr>\n",
       "  </thead>\n",
       "  <tbody>\n",
       "    <tr>\n",
       "      <th>0</th>\n",
       "      <td>19540</td>\n",
       "      <td>1</td>\n",
       "      <td>2_methylbutyl_cyclopentene_19540</td>\n",
       "      <td>pentylcyclopentane</td>\n",
       "      <td>C10H20</td>\n",
       "    </tr>\n",
       "    <tr>\n",
       "      <th>1</th>\n",
       "      <td>16270</td>\n",
       "      <td>1</td>\n",
       "      <td>2_methylbutyl_cyclopentene_16270</td>\n",
       "      <td>propylcyclopentane</td>\n",
       "      <td>C8H16</td>\n",
       "    </tr>\n",
       "    <tr>\n",
       "      <th>2</th>\n",
       "      <td>16269</td>\n",
       "      <td>1</td>\n",
       "      <td>2_methylbutyl_cyclopentene_16269</td>\n",
       "      <td>butylcyclopentane</td>\n",
       "      <td>C9H18</td>\n",
       "    </tr>\n",
       "    <tr>\n",
       "      <th>3</th>\n",
       "      <td>137211</td>\n",
       "      <td>1</td>\n",
       "      <td>2_methylbutyl_cyclopentene_137211</td>\n",
       "      <td>decylcyclopentane</td>\n",
       "      <td>C15H30</td>\n",
       "    </tr>\n",
       "    <tr>\n",
       "      <th>4</th>\n",
       "      <td>77414</td>\n",
       "      <td>1</td>\n",
       "      <td>2_methylbutyl_cyclopentene_77414</td>\n",
       "      <td>2-methylpropylcyclopentane</td>\n",
       "      <td>C9H18</td>\n",
       "    </tr>\n",
       "  </tbody>\n",
       "</table>\n",
       "</div>"
      ],
      "text/plain": [
       "      cid  ring                     image_saved_as  \\\n",
       "0   19540     1   2_methylbutyl_cyclopentene_19540   \n",
       "1   16270     1   2_methylbutyl_cyclopentene_16270   \n",
       "2   16269     1   2_methylbutyl_cyclopentene_16269   \n",
       "3  137211     1  2_methylbutyl_cyclopentene_137211   \n",
       "4   77414     1   2_methylbutyl_cyclopentene_77414   \n",
       "\n",
       "                        iupac      mf  \n",
       "0          pentylcyclopentane  C10H20  \n",
       "1          propylcyclopentane   C8H16  \n",
       "2           butylcyclopentane   C9H18  \n",
       "3           decylcyclopentane  C15H30  \n",
       "4  2-methylpropylcyclopentane   C9H18  "
      ]
     },
     "execution_count": 64,
     "metadata": {},
     "output_type": "execute_result"
    }
   ],
   "source": [
    "df_sliced.head()"
   ]
  },
  {
   "cell_type": "code",
   "execution_count": 65,
   "metadata": {},
   "outputs": [
    {
     "data": {
      "text/html": [
       "<div>\n",
       "<style scoped>\n",
       "    .dataframe tbody tr th:only-of-type {\n",
       "        vertical-align: middle;\n",
       "    }\n",
       "\n",
       "    .dataframe tbody tr th {\n",
       "        vertical-align: top;\n",
       "    }\n",
       "\n",
       "    .dataframe thead th {\n",
       "        text-align: right;\n",
       "    }\n",
       "</style>\n",
       "<table border=\"1\" class=\"dataframe\">\n",
       "  <thead>\n",
       "    <tr style=\"text-align: right;\">\n",
       "      <th></th>\n",
       "      <th>cid</th>\n",
       "      <th>ring</th>\n",
       "      <th>image_saved_as</th>\n",
       "      <th>iupac</th>\n",
       "      <th>mf</th>\n",
       "    </tr>\n",
       "  </thead>\n",
       "  <tbody>\n",
       "    <tr>\n",
       "      <th>33</th>\n",
       "      <td>91199232</td>\n",
       "      <td>1</td>\n",
       "      <td>2_methylbutyl_cyclopentene_91199232</td>\n",
       "      <td>1,3-diethylcyclopentane;ethane</td>\n",
       "      <td>C13H30</td>\n",
       "    </tr>\n",
       "    <tr>\n",
       "      <th>34</th>\n",
       "      <td>90713669</td>\n",
       "      <td>1</td>\n",
       "      <td>2_methylbutyl_cyclopentene_90713669</td>\n",
       "      <td>1,3-diethylcyclopentane;ethane</td>\n",
       "      <td>C11H24</td>\n",
       "    </tr>\n",
       "    <tr>\n",
       "      <th>172</th>\n",
       "      <td>22129134</td>\n",
       "      <td>1</td>\n",
       "      <td>2_methylbutyl_cyclopentene_22129134</td>\n",
       "      <td>lithium;2-methylpropylcyclopentane</td>\n",
       "      <td>C9H17Li</td>\n",
       "    </tr>\n",
       "  </tbody>\n",
       "</table>\n",
       "</div>"
      ],
      "text/plain": [
       "          cid  ring                       image_saved_as  \\\n",
       "33   91199232     1  2_methylbutyl_cyclopentene_91199232   \n",
       "34   90713669     1  2_methylbutyl_cyclopentene_90713669   \n",
       "172  22129134     1  2_methylbutyl_cyclopentene_22129134   \n",
       "\n",
       "                                  iupac       mf  \n",
       "33       1,3-diethylcyclopentane;ethane   C13H30  \n",
       "34       1,3-diethylcyclopentane;ethane   C11H24  \n",
       "172  lithium;2-methylpropylcyclopentane  C9H17Li  "
      ]
     },
     "execution_count": 65,
     "metadata": {},
     "output_type": "execute_result"
    }
   ],
   "source": [
    "false_positives.head()"
   ]
  }
 ],
 "metadata": {
  "kernelspec": {
   "display_name": "Python 3",
   "language": "python",
   "name": "python3"
  },
  "language_info": {
   "codemirror_mode": {
    "name": "ipython",
    "version": 3
   },
   "file_extension": ".py",
   "mimetype": "text/x-python",
   "name": "python",
   "nbconvert_exporter": "python",
   "pygments_lexer": "ipython3",
   "version": "3.6.5"
  }
 },
 "nbformat": 4,
 "nbformat_minor": 2
}
