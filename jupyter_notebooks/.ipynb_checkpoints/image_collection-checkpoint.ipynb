{
 "cells": [
  {
   "cell_type": "markdown",
   "metadata": {},
   "source": [
    "# Image Collection and Dataframe Formation \n",
    "\n",
    "## Part 1 - Image Collection \n",
    "\n",
    "### Using the PUG Rest API and BeautifulSoup to collect images "
   ]
  },
  {
   "cell_type": "code",
   "execution_count": 1,
   "metadata": {},
   "outputs": [
    {
     "name": "stdout",
     "output_type": "stream",
     "text": [
      "Requirement already satisfied: regex in /Users/pcavins/opt/anaconda3/lib/python3.7/site-packages (2020.11.13)\r\n"
     ]
    }
   ],
   "source": [
    "## Libraries \n",
    "\n",
    "import pandas as pd \n",
    "import requests\n",
    "from bs4 import BeautifulSoup\n",
    "import ast\n",
    "import time\n",
    "# !pip install regex\n",
    "import regex as re\n",
    "import os \n",
    "import numpy as np"
   ]
  },
  {
   "cell_type": "markdown",
   "metadata": {},
   "source": [
    "## Define The URL Parameters \n",
    "\n",
    "- Importing images based on the tanimoto search parameters defined in the PUG Rest API documentation\n",
    "- Inputs:\n",
    "    - CID \n",
    "    - Tanimoto Percent\n",
    "    \n",
    "### References: \n",
    "\n",
    "- https://chem.libretexts.org/Courses/St._Louis_College_of_Pharmacy/CHEM3351%3A_Cheminformatics/5%3A_How_to_Search_PubChem_for_Chemical_Information_(Part_1)"
   ]
  },
  {
   "cell_type": "code",
   "execution_count": 163,
   "metadata": {},
   "outputs": [],
   "source": [
    "## This function makes a reques to the PUG rest API and returns a list_key \n",
    "## which must be used to retrieve the results \n",
    "\n",
    "# number = PubChem CID only\n",
    "# threshold = the set Tanimoto similarity threshold\n",
    "\n",
    "def request_format(number, threshold):\n",
    "    '''\n",
    "    number : int, d\n",
    "    '''\n",
    "    \n",
    "    \n",
    "    #Part 1, we need to send the request to pubchem, expect an 'ListKey' return\n",
    "    pubchem_cid = number\n",
    "    \n",
    "    #This is the base URL we are using for the  tanimoto similarity search \n",
    "    input_url = f'https://pubchem.ncbi.nlm.nih.gov/rest/pug/compound/similarity/cid/{pubchem_cid}/JSON?Threshold={threshold}' \n",
    "    \n",
    "    #This is gathering the 'ListKey'\n",
    "    api_request = requests.get(input_url)\n",
    "    status = ast.literal_eval(api_request.text)\n",
    "    list_key = int(status['Waiting']['ListKey'])\n",
    "    print(api_request.status_code)\n",
    "\n",
    "    return list_key"
   ]
  },
  {
   "cell_type": "code",
   "execution_count": 176,
   "metadata": {
    "scrolled": false
   },
   "outputs": [
    {
     "name": "stdout",
     "output_type": "stream",
     "text": [
      "202\n"
     ]
    }
   ],
   "source": [
    "list_key = request_format(141992, 95)"
   ]
  },
  {
   "cell_type": "code",
   "execution_count": 177,
   "metadata": {},
   "outputs": [
    {
     "name": "stdout",
     "output_type": "stream",
     "text": [
      "2493835728108288312\n"
     ]
    }
   ],
   "source": [
    "print (list_key)"
   ]
  },
  {
   "cell_type": "code",
   "execution_count": 178,
   "metadata": {},
   "outputs": [],
   "source": [
    "## Not functional to be implement in future versions \n",
    "\n",
    "# def list_test(fn_list, fn_present):\n",
    "    \n",
    "#     #Checking that my variables lists are the same size \n",
    "#     if len(fn_list) != len(fn_present):\n",
    "#         return  (\"The Lists are the Not the Same Length\")\n",
    "    \n",
    "#     else:\n",
    "#         #Create the dataframe \n",
    "#         test = pd.DataFrame()\n",
    "        \n",
    "#         for index, entry in enumerate(fn_list):\n",
    "#             test[fn_list[index]] = fn_present[index]    \n",
    "        \n",
    "#     return test  "
   ]
  },
  {
   "cell_type": "code",
   "execution_count": 179,
   "metadata": {},
   "outputs": [],
   "source": [
    "## This function uses the list_key collected in the PUG Rest API request, and returns the list\n",
    "## of PubChem CIDs based on the similarity search results\n",
    "\n",
    "def output_format(list_key):\n",
    "    \n",
    "    \n",
    "    #HTML Request\n",
    "    result_url = f'https://pubchem.ncbi.nlm.nih.gov/rest/pug/compound/listkey/{list_key}/cids/JSON'\n",
    "    api_request = requests.get(result_url)\n",
    "    \n",
    "    #Returns a JSON Object => Dictionary \n",
    "    output_dictionary = ast.literal_eval(api_request.text)\n",
    "    \n",
    "    #Accessing the Dictionary\n",
    "    cid = output_dictionary['IdentifierList']['CID']\n",
    "    \n",
    "    #Creating the the datafame \n",
    "    df = pd.DataFrame()\n",
    "\n",
    "    #Always Included \n",
    "    df['cid'] = cid\n",
    "\n",
    "\n",
    "    return df"
   ]
  },
  {
   "cell_type": "code",
   "execution_count": 180,
   "metadata": {
    "scrolled": false
   },
   "outputs": [],
   "source": [
    "time.sleep(60) \n",
    "df = output_format(list_key)"
   ]
  },
  {
   "cell_type": "code",
   "execution_count": 181,
   "metadata": {
    "scrolled": false
   },
   "outputs": [
    {
     "data": {
      "text/html": [
       "<div>\n",
       "<style scoped>\n",
       "    .dataframe tbody tr th:only-of-type {\n",
       "        vertical-align: middle;\n",
       "    }\n",
       "\n",
       "    .dataframe tbody tr th {\n",
       "        vertical-align: top;\n",
       "    }\n",
       "\n",
       "    .dataframe thead th {\n",
       "        text-align: right;\n",
       "    }\n",
       "</style>\n",
       "<table border=\"1\" class=\"dataframe\">\n",
       "  <thead>\n",
       "    <tr style=\"text-align: right;\">\n",
       "      <th></th>\n",
       "      <th>cid</th>\n",
       "    </tr>\n",
       "  </thead>\n",
       "  <tbody>\n",
       "    <tr>\n",
       "      <th>0</th>\n",
       "      <td>141992</td>\n",
       "    </tr>\n",
       "    <tr>\n",
       "      <th>1</th>\n",
       "      <td>12529273</td>\n",
       "    </tr>\n",
       "    <tr>\n",
       "      <th>2</th>\n",
       "      <td>57417610</td>\n",
       "    </tr>\n",
       "    <tr>\n",
       "      <th>3</th>\n",
       "      <td>57506627</td>\n",
       "    </tr>\n",
       "    <tr>\n",
       "      <th>4</th>\n",
       "      <td>101364802</td>\n",
       "    </tr>\n",
       "  </tbody>\n",
       "</table>\n",
       "</div>"
      ],
      "text/plain": [
       "         cid\n",
       "0     141992\n",
       "1   12529273\n",
       "2   57417610\n",
       "3   57506627\n",
       "4  101364802"
      ]
     },
     "execution_count": 181,
     "metadata": {},
     "output_type": "execute_result"
    }
   ],
   "source": [
    "df.head()"
   ]
  },
  {
   "cell_type": "code",
   "execution_count": 182,
   "metadata": {},
   "outputs": [],
   "source": [
    "## Adding in the functioanl Group Info \n",
    "## Heterocylces count \n",
    "\n",
    "df['ring'] =1\n",
    "# df['KEY'] =1\n",
    "# df['BNZ'] =1  \n",
    "df['AKE'] = 1\n",
    "# df['AKA'] = 1 \n",
    "df['AKH'] = 1\n",
    "# df['ALC'] = 1 \n",
    "# df['COC'] = 1\n",
    "# df['COO'] = 1\n",
    "df['AMN'] = 1 \n",
    "# df['SHH'] = 1 \n",
    "# df['COH'] = 1 \n",
    "# df['AKY'] = 1\n",
    "# df['COONH2'] = 1 "
   ]
  },
  {
   "cell_type": "code",
   "execution_count": 183,
   "metadata": {},
   "outputs": [
    {
     "data": {
      "text/html": [
       "<div>\n",
       "<style scoped>\n",
       "    .dataframe tbody tr th:only-of-type {\n",
       "        vertical-align: middle;\n",
       "    }\n",
       "\n",
       "    .dataframe tbody tr th {\n",
       "        vertical-align: top;\n",
       "    }\n",
       "\n",
       "    .dataframe thead th {\n",
       "        text-align: right;\n",
       "    }\n",
       "</style>\n",
       "<table border=\"1\" class=\"dataframe\">\n",
       "  <thead>\n",
       "    <tr style=\"text-align: right;\">\n",
       "      <th></th>\n",
       "      <th>cid</th>\n",
       "      <th>ring</th>\n",
       "      <th>AKE</th>\n",
       "      <th>AKH</th>\n",
       "      <th>AMN</th>\n",
       "    </tr>\n",
       "  </thead>\n",
       "  <tbody>\n",
       "    <tr>\n",
       "      <th>0</th>\n",
       "      <td>141992</td>\n",
       "      <td>1</td>\n",
       "      <td>1</td>\n",
       "      <td>1</td>\n",
       "      <td>1</td>\n",
       "    </tr>\n",
       "    <tr>\n",
       "      <th>1</th>\n",
       "      <td>12529273</td>\n",
       "      <td>1</td>\n",
       "      <td>1</td>\n",
       "      <td>1</td>\n",
       "      <td>1</td>\n",
       "    </tr>\n",
       "    <tr>\n",
       "      <th>2</th>\n",
       "      <td>57417610</td>\n",
       "      <td>1</td>\n",
       "      <td>1</td>\n",
       "      <td>1</td>\n",
       "      <td>1</td>\n",
       "    </tr>\n",
       "    <tr>\n",
       "      <th>3</th>\n",
       "      <td>57506627</td>\n",
       "      <td>1</td>\n",
       "      <td>1</td>\n",
       "      <td>1</td>\n",
       "      <td>1</td>\n",
       "    </tr>\n",
       "    <tr>\n",
       "      <th>4</th>\n",
       "      <td>101364802</td>\n",
       "      <td>1</td>\n",
       "      <td>1</td>\n",
       "      <td>1</td>\n",
       "      <td>1</td>\n",
       "    </tr>\n",
       "  </tbody>\n",
       "</table>\n",
       "</div>"
      ],
      "text/plain": [
       "         cid  ring  AKE  AKH  AMN\n",
       "0     141992     1    1    1    1\n",
       "1   12529273     1    1    1    1\n",
       "2   57417610     1    1    1    1\n",
       "3   57506627     1    1    1    1\n",
       "4  101364802     1    1    1    1"
      ]
     },
     "execution_count": 183,
     "metadata": {},
     "output_type": "execute_result"
    }
   ],
   "source": [
    "df.head()"
   ]
  },
  {
   "cell_type": "code",
   "execution_count": 184,
   "metadata": {
    "scrolled": true
   },
   "outputs": [
    {
     "data": {
      "text/plain": [
       "(6, 5)"
      ]
     },
     "execution_count": 184,
     "metadata": {},
     "output_type": "execute_result"
    }
   ],
   "source": [
    "df.shape"
   ]
  },
  {
   "cell_type": "markdown",
   "metadata": {},
   "source": [
    "## Downloading the Images from PubChem \n",
    "\n",
    "### Using PubChem PUGRest API\n",
    "\n",
    "**References** \n",
    "\n",
    "https://www.geeksforgeeks.org/downloading-files-web-using-python/"
   ]
  },
  {
   "cell_type": "code",
   "execution_count": 185,
   "metadata": {},
   "outputs": [],
   "source": [
    "def image_collection(dataframe, new_column_name, dataframe_column_input, image_class):\n",
    "    item_list = []\n",
    "    for entry in dataframe[dataframe_column_input]:\n",
    "        \n",
    "        #Print Start\n",
    "        print (entry)\n",
    "        \n",
    "        # We want to be able to keep track the files we are creating for this project\n",
    "        image_name = f'{image_class}_{entry}'\n",
    "        item_list.append(image_name)\n",
    "        \n",
    "        #Using Requests\n",
    "        image_url = f'https://pubchem.ncbi.nlm.nih.gov/rest/pug/compound/cid/{entry}/PNG'\n",
    "        api_call = requests.get(image_url) # create HTTP response object \n",
    "        \n",
    "        with open(f\"./images_multi_label/{image_class}_{entry}.png\",'wb') as f: \n",
    "  \n",
    "        # Saving received content as a png file in \n",
    "        # binary format \n",
    "\n",
    "        # write the contents of the response (r.content) \n",
    "        # to a new file in binary mode. \n",
    "            f.write(api_call.content)\n",
    "        \n",
    "        \n",
    "        \n",
    "#         #PubChemPy Method, will download the images \n",
    "#         download(outformat='PNG', path=f'./images/{image_class}_{entry}.png',\n",
    "#                  identifier=entry , namespace='cid', overwrite=True)\n",
    "        \n",
    "        time.sleep(.3)\n",
    "    \n",
    "    \n",
    "    print ('ALL IMAGES HAVE BEEN DOWNLOADED AND SAVED')\n",
    "    \n",
    "    #Save the filenames to the dataframe \n",
    "    dataframe[new_column_name] = item_list\n",
    "    \n",
    "    #Saving the dataframe to CSV \n",
    "    dataframe.to_csv(f'./data_multi_label/{image_name}.csv')\n",
    "    \n",
    "    #This is the list of images which where downloaded and saved \n",
    "    return item_list"
   ]
  },
  {
   "cell_type": "code",
   "execution_count": 186,
   "metadata": {
    "scrolled": true
   },
   "outputs": [
    {
     "name": "stdout",
     "output_type": "stream",
     "text": [
      "141992\n",
      "12529273\n",
      "57417610\n",
      "57506627\n",
      "101364802\n",
      "118992218\n",
      "ALL IMAGES HAVE BEEN DOWNLOADED AND SAVED\n"
     ]
    },
    {
     "data": {
      "text/plain": [
       "['4_fluoro_1h_pyrazole_141992',\n",
       " '4_fluoro_1h_pyrazole_12529273',\n",
       " '4_fluoro_1h_pyrazole_57417610',\n",
       " '4_fluoro_1h_pyrazole_57506627',\n",
       " '4_fluoro_1h_pyrazole_101364802',\n",
       " '4_fluoro_1h_pyrazole_118992218']"
      ]
     },
     "execution_count": 186,
     "metadata": {},
     "output_type": "execute_result"
    }
   ],
   "source": [
    "image_collection(df, 'image_saved_as', 'cid', \"4_fluoro_1h_pyrazole\")"
   ]
  },
  {
   "cell_type": "code",
   "execution_count": 187,
   "metadata": {
    "scrolled": true
   },
   "outputs": [
    {
     "data": {
      "text/html": [
       "<div>\n",
       "<style scoped>\n",
       "    .dataframe tbody tr th:only-of-type {\n",
       "        vertical-align: middle;\n",
       "    }\n",
       "\n",
       "    .dataframe tbody tr th {\n",
       "        vertical-align: top;\n",
       "    }\n",
       "\n",
       "    .dataframe thead th {\n",
       "        text-align: right;\n",
       "    }\n",
       "</style>\n",
       "<table border=\"1\" class=\"dataframe\">\n",
       "  <thead>\n",
       "    <tr style=\"text-align: right;\">\n",
       "      <th></th>\n",
       "      <th>cid</th>\n",
       "      <th>ring</th>\n",
       "      <th>AKE</th>\n",
       "      <th>AKH</th>\n",
       "      <th>AMN</th>\n",
       "      <th>image_saved_as</th>\n",
       "    </tr>\n",
       "  </thead>\n",
       "  <tbody>\n",
       "    <tr>\n",
       "      <th>0</th>\n",
       "      <td>141992</td>\n",
       "      <td>1</td>\n",
       "      <td>1</td>\n",
       "      <td>1</td>\n",
       "      <td>1</td>\n",
       "      <td>4_fluoro_1h_pyrazole_141992</td>\n",
       "    </tr>\n",
       "    <tr>\n",
       "      <th>1</th>\n",
       "      <td>12529273</td>\n",
       "      <td>1</td>\n",
       "      <td>1</td>\n",
       "      <td>1</td>\n",
       "      <td>1</td>\n",
       "      <td>4_fluoro_1h_pyrazole_12529273</td>\n",
       "    </tr>\n",
       "    <tr>\n",
       "      <th>2</th>\n",
       "      <td>57417610</td>\n",
       "      <td>1</td>\n",
       "      <td>1</td>\n",
       "      <td>1</td>\n",
       "      <td>1</td>\n",
       "      <td>4_fluoro_1h_pyrazole_57417610</td>\n",
       "    </tr>\n",
       "    <tr>\n",
       "      <th>3</th>\n",
       "      <td>57506627</td>\n",
       "      <td>1</td>\n",
       "      <td>1</td>\n",
       "      <td>1</td>\n",
       "      <td>1</td>\n",
       "      <td>4_fluoro_1h_pyrazole_57506627</td>\n",
       "    </tr>\n",
       "    <tr>\n",
       "      <th>4</th>\n",
       "      <td>101364802</td>\n",
       "      <td>1</td>\n",
       "      <td>1</td>\n",
       "      <td>1</td>\n",
       "      <td>1</td>\n",
       "      <td>4_fluoro_1h_pyrazole_101364802</td>\n",
       "    </tr>\n",
       "  </tbody>\n",
       "</table>\n",
       "</div>"
      ],
      "text/plain": [
       "         cid  ring  AKE  AKH  AMN                  image_saved_as\n",
       "0     141992     1    1    1    1     4_fluoro_1h_pyrazole_141992\n",
       "1   12529273     1    1    1    1   4_fluoro_1h_pyrazole_12529273\n",
       "2   57417610     1    1    1    1   4_fluoro_1h_pyrazole_57417610\n",
       "3   57506627     1    1    1    1   4_fluoro_1h_pyrazole_57506627\n",
       "4  101364802     1    1    1    1  4_fluoro_1h_pyrazole_101364802"
      ]
     },
     "execution_count": 187,
     "metadata": {},
     "output_type": "execute_result"
    }
   ],
   "source": [
    "# df['ring'] = 0\n",
    "\n",
    "df.head()"
   ]
  }
 ],
 "metadata": {
  "kernelspec": {
   "display_name": "Python 3",
   "language": "python",
   "name": "python3"
  },
  "language_info": {
   "codemirror_mode": {
    "name": "ipython",
    "version": 3
   },
   "file_extension": ".py",
   "mimetype": "text/x-python",
   "name": "python",
   "nbconvert_exporter": "python",
   "pygments_lexer": "ipython3",
   "version": "3.7.6"
  }
 },
 "nbformat": 4,
 "nbformat_minor": 2
}
