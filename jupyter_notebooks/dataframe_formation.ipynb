{
 "cells": [
  {
   "cell_type": "markdown",
   "metadata": {},
   "source": [
    "# Merging Dataframes \n",
    "\n",
    "## Collected multiple CSVs linked to image files from the image_collection notebook \n",
    "\n",
    "### Using a for loop and `os` library merging them into a complete data frame so that they can be used by the Keras backedn. \n",
    "\n",
    "\n",
    "#### Updated: May 14, 2019\n",
    "\n",
    "#### By: Patrick L. Cavins "
   ]
  },
  {
   "cell_type": "code",
   "execution_count": 2,
   "metadata": {},
   "outputs": [],
   "source": [
    "# import libraries \n",
    "\n",
    "import pandas as pd \n",
    "import os \n",
    "import numpy as np"
   ]
  },
  {
   "cell_type": "code",
   "execution_count": 5,
   "metadata": {},
   "outputs": [],
   "source": [
    "def merge_image_df (img_dir):\n",
    "    \n",
    "    #instantiate a new dataframe\n",
    "    merge_df = pd.DataFrame()\n",
    "    \n",
    "    #for loop to collect the csv's\n",
    "    for file in os.listdir(img_dir):\n",
    "#         print (file)\n",
    "        if file.endswith('.csv'):\n",
    "            df = pd.read_csv(f'../data_multi_label/{file}')\n",
    "            df = df.drop(columns= 'Unnamed: 0')\n",
    "            print(f'imported {file}')\n",
    "            merge_df = merge_df.append(df, sort=True)\n",
    "            print('--'*20)\n",
    "            print(f'The {file} has been successfully appended')\n",
    "            print('--'*20)\n",
    "    \n",
    "    return merge_df"
   ]
  },
  {
   "cell_type": "code",
   "execution_count": 8,
   "metadata": {},
   "outputs": [
    {
     "name": "stdout",
     "output_type": "stream",
     "text": [
      "imported 3_bromo_2_butanone_124301336.csv\n",
      "----------------------------------------\n",
      "The 3_bromo_2_butanone_124301336.csv has been successfully appended\n",
      "----------------------------------------\n",
      "imported 4_picolylamine_137706302.csv\n",
      "----------------------------------------\n",
      "The 4_picolylamine_137706302.csv has been successfully appended\n",
      "----------------------------------------\n",
      "imported Acetylacetone_132140404.csv\n",
      "----------------------------------------\n",
      "The Acetylacetone_132140404.csv has been successfully appended\n",
      "----------------------------------------\n",
      "imported N_N_diethyl_2_hydroxyacetamide_87718639.csv\n",
      "----------------------------------------\n",
      "The N_N_diethyl_2_hydroxyacetamide_87718639.csv has been successfully appended\n",
      "----------------------------------------\n",
      "imported 2_methyl_1_hexen_3_yne_90943848.csv\n",
      "----------------------------------------\n",
      "The 2_methyl_1_hexen_3_yne_90943848.csv has been successfully appended\n",
      "----------------------------------------\n",
      "imported 2_methyl_1_3-dioxolane_2_ethanamine_82278148.csv\n",
      "----------------------------------------\n",
      "The 2_methyl_1_3-dioxolane_2_ethanamine_82278148.csv has been successfully appended\n",
      "----------------------------------------\n",
      "imported 4_hydroxy_2_butanone_88249877.csv\n",
      "----------------------------------------\n",
      "The 4_hydroxy_2_butanone_88249877.csv has been successfully appended\n",
      "----------------------------------------\n",
      "imported 4-hydroxybutanal_88830687.csv\n",
      "----------------------------------------\n",
      "The 4-hydroxybutanal_88830687.csv has been successfully appended\n",
      "----------------------------------------\n",
      "imported diphenyl_ether_135467152.csv\n",
      "----------------------------------------\n",
      "The diphenyl_ether_135467152.csv has been successfully appended\n",
      "----------------------------------------\n",
      "imported cyclopropanepropiolic_acid_130656966.csv\n",
      "----------------------------------------\n",
      "The cyclopropanepropiolic_acid_130656966.csv has been successfully appended\n",
      "----------------------------------------\n",
      "imported 4_pentene_1_ol_102508380.csv\n",
      "----------------------------------------\n",
      "The 4_pentene_1_ol_102508380.csv has been successfully appended\n",
      "----------------------------------------\n",
      "imported 4_methylcyclohexanecarboxylic_acid_88521050.csv\n",
      "----------------------------------------\n",
      "The 4_methylcyclohexanecarboxylic_acid_88521050.csv has been successfully appended\n",
      "----------------------------------------\n",
      "imported 1_methylcyclopropanol_68830536.csv\n",
      "----------------------------------------\n",
      "The 1_methylcyclopropanol_68830536.csv has been successfully appended\n",
      "----------------------------------------\n",
      "imported lysine_134261062.csv\n",
      "----------------------------------------\n",
      "The lysine_134261062.csv has been successfully appended\n",
      "----------------------------------------\n",
      "imported 4_fluoro_1h_pyrazole_118992218.csv\n",
      "----------------------------------------\n",
      "The 4_fluoro_1h_pyrazole_118992218.csv has been successfully appended\n",
      "----------------------------------------\n",
      "imported benzamide_133623060.csv\n",
      "----------------------------------------\n",
      "The benzamide_133623060.csv has been successfully appended\n",
      "----------------------------------------\n",
      "imported trimethylacetamide_135973532.csv\n",
      "----------------------------------------\n",
      "The trimethylacetamide_135973532.csv has been successfully appended\n",
      "----------------------------------------\n",
      "imported 4_Chlorobenzamide_131869240.csv\n",
      "----------------------------------------\n",
      "The 4_Chlorobenzamide_131869240.csv has been successfully appended\n",
      "----------------------------------------\n",
      "imported 1_4_dichlrobutane_16213505.csv\n",
      "----------------------------------------\n",
      "The 1_4_dichlrobutane_16213505.csv has been successfully appended\n",
      "----------------------------------------\n",
      "imported 1_Trimethylsilyl_1_pentyne_132992673.csv\n",
      "----------------------------------------\n",
      "The 1_Trimethylsilyl_1_pentyne_132992673.csv has been successfully appended\n",
      "----------------------------------------\n",
      "imported full_image_df.csv\n",
      "----------------------------------------\n",
      "The full_image_df.csv has been successfully appended\n",
      "----------------------------------------\n",
      "imported 3_methylbutanal_132532369.csv\n",
      "----------------------------------------\n",
      "The 3_methylbutanal_132532369.csv has been successfully appended\n",
      "----------------------------------------\n",
      "imported phenyl_vinyl_sulfoxide_132514669.csv\n",
      "----------------------------------------\n",
      "The phenyl_vinyl_sulfoxide_132514669.csv has been successfully appended\n",
      "----------------------------------------\n",
      "imported 2_aminopropane_137522777.csv\n",
      "----------------------------------------\n",
      "The 2_aminopropane_137522777.csv has been successfully appended\n",
      "----------------------------------------\n",
      "imported chlorocyclopentane_57447281.csv\n",
      "----------------------------------------\n",
      "The chlorocyclopentane_57447281.csv has been successfully appended\n",
      "----------------------------------------\n",
      "imported 2_butyne_1_4_diol_101834757.csv\n",
      "----------------------------------------\n",
      "The 2_butyne_1_4_diol_101834757.csv has been successfully appended\n",
      "----------------------------------------\n",
      "imported 4_chlorobutanoic_acid_90470052.csv\n",
      "----------------------------------------\n",
      "The 4_chlorobutanoic_acid_90470052.csv has been successfully appended\n",
      "----------------------------------------\n",
      "imported 2_ethyl_2_methyl_1_3_dioxolane_136810734.csv\n",
      "----------------------------------------\n",
      "The 2_ethyl_2_methyl_1_3_dioxolane_136810734.csv has been successfully appended\n",
      "----------------------------------------\n",
      "imported 4_tert_butylbenzoic_acid_131708641.csv\n",
      "----------------------------------------\n",
      "The 4_tert_butylbenzoic_acid_131708641.csv has been successfully appended\n",
      "----------------------------------------\n",
      "imported cyclopentanecarbaldehyde_57423237.csv\n",
      "----------------------------------------\n",
      "The cyclopentanecarbaldehyde_57423237.csv has been successfully appended\n",
      "----------------------------------------\n",
      "imported 3_trimethylsilyl_ethynylbenzaldehyde_101764716.csv\n",
      "----------------------------------------\n",
      "The 3_trimethylsilyl_ethynylbenzaldehyde_101764716.csv has been successfully appended\n",
      "----------------------------------------\n",
      "imported benzophenone_132501692.csv\n",
      "----------------------------------------\n",
      "The benzophenone_132501692.csv has been successfully appended\n",
      "----------------------------------------\n",
      "imported thiophene_135197459.csv\n",
      "----------------------------------------\n",
      "The thiophene_135197459.csv has been successfully appended\n",
      "----------------------------------------\n",
      "imported cyclopentanecarboxamide_87454094.csv\n",
      "----------------------------------------\n",
      "The cyclopentanecarboxamide_87454094.csv has been successfully appended\n",
      "----------------------------------------\n",
      "imported 3_butynyl_tosylate_131844431.csv\n",
      "----------------------------------------\n",
      "The 3_butynyl_tosylate_131844431.csv has been successfully appended\n",
      "----------------------------------------\n",
      "imported benzaldehyde_122397082.csv\n",
      "----------------------------------------\n",
      "The benzaldehyde_122397082.csv has been successfully appended\n",
      "----------------------------------------\n",
      "imported hexanoic_acid_135993269.csv\n",
      "----------------------------------------\n",
      "The hexanoic_acid_135993269.csv has been successfully appended\n",
      "----------------------------------------\n",
      "imported acetoacetamide_88750729.csv\n",
      "----------------------------------------\n",
      "The acetoacetamide_88750729.csv has been successfully appended\n",
      "----------------------------------------\n",
      "imported metanilamide_131430035.csv\n",
      "----------------------------------------\n",
      "The metanilamide_131430035.csv has been successfully appended\n",
      "----------------------------------------\n",
      "imported benzyl_chloride_132506699.csv\n",
      "----------------------------------------\n",
      "The benzyl_chloride_132506699.csv has been successfully appended\n",
      "----------------------------------------\n",
      "imported isoprene_101530269.csv\n",
      "----------------------------------------\n",
      "The isoprene_101530269.csv has been successfully appended\n",
      "----------------------------------------\n",
      "imported 4_formylbenzoic_acid_131880594.csv\n",
      "----------------------------------------\n",
      "The 4_formylbenzoic_acid_131880594.csv has been successfully appended\n",
      "----------------------------------------\n",
      "imported 4_bromo_2_methylanisole_137522777.csv\n",
      "----------------------------------------\n",
      "The 4_bromo_2_methylanisole_137522777.csv has been successfully appended\n",
      "----------------------------------------\n",
      "imported 4_bromo_2_methylanisole_133669165.csv\n",
      "----------------------------------------\n",
      "The 4_bromo_2_methylanisole_133669165.csv has been successfully appended\n",
      "----------------------------------------\n",
      "imported 2_methyloxirane_124202777.csv\n",
      "----------------------------------------\n",
      "The 2_methyloxirane_124202777.csv has been successfully appended\n",
      "----------------------------------------\n",
      "imported benzyl_bromide_102326893.csv\n",
      "----------------------------------------\n",
      "The benzyl_bromide_102326893.csv has been successfully appended\n",
      "----------------------------------------\n",
      "imported Cyclopentenone_119077282.csv\n",
      "----------------------------------------\n",
      "The Cyclopentenone_119077282.csv has been successfully appended\n",
      "----------------------------------------\n",
      "imported bromomethyl_acetate_20184419.csv\n",
      "----------------------------------------\n",
      "The bromomethyl_acetate_20184419.csv has been successfully appended\n",
      "----------------------------------------\n",
      "imported 2_3_Dibromo_1_4_naphthoquinone_132522790.csv\n",
      "----------------------------------------\n",
      "The 2_3_Dibromo_1_4_naphthoquinone_132522790.csv has been successfully appended\n",
      "----------------------------------------\n",
      "imported 3_amino_1_propanesulfonic_acid_118523252.csv\n",
      "----------------------------------------\n",
      "The 3_amino_1_propanesulfonic_acid_118523252.csv has been successfully appended\n",
      "----------------------------------------\n"
     ]
    }
   ],
   "source": [
    "df = merge_image_df('../data_multi_label/')"
   ]
  },
  {
   "cell_type": "code",
   "execution_count": 9,
   "metadata": {},
   "outputs": [
    {
     "data": {
      "text/plain": [
       "(4703, 17)"
      ]
     },
     "execution_count": 9,
     "metadata": {},
     "output_type": "execute_result"
    }
   ],
   "source": [
    "df.shape"
   ]
  },
  {
   "cell_type": "code",
   "execution_count": 10,
   "metadata": {},
   "outputs": [],
   "source": [
    "df = df.drop_duplicates(subset='cid')\n",
    "df = df.replace(to_replace=np.nan, value=0)"
   ]
  },
  {
   "cell_type": "code",
   "execution_count": 11,
   "metadata": {},
   "outputs": [
    {
     "data": {
      "text/plain": [
       "(2313, 17)"
      ]
     },
     "execution_count": 11,
     "metadata": {},
     "output_type": "execute_result"
    }
   ],
   "source": [
    "df.shape"
   ]
  },
  {
   "cell_type": "code",
   "execution_count": 12,
   "metadata": {},
   "outputs": [
    {
     "data": {
      "text/plain": [
       "AKA                                                            1346\n",
       "AKE                                                             249\n",
       "AKH                                                             222\n",
       "AKY                                                             189\n",
       "ALC                                                              38\n",
       "AMN                                                             325\n",
       "BNZ                                                            1231\n",
       "COC                                                             433\n",
       "COH                                                             181\n",
       "COO                                                             518\n",
       "COONH2                                                          186\n",
       "KEY                                                             271\n",
       "OH                                                               12\n",
       "SHH                                                             283\n",
       "cid                                                    130197711729\n",
       "image_saved_as    3_bromo_2_butanone_131563_bromo_2_butanone_627...\n",
       "ring                                                           1709\n",
       "dtype: object"
      ]
     },
     "execution_count": 12,
     "metadata": {},
     "output_type": "execute_result"
    }
   ],
   "source": [
    "df.sum()"
   ]
  },
  {
   "cell_type": "code",
   "execution_count": 134,
   "metadata": {},
   "outputs": [],
   "source": [
    "df.to_csv('./data_multi_label/full_image_df.csv')"
   ]
  },
  {
   "cell_type": "code",
   "execution_count": null,
   "metadata": {},
   "outputs": [],
   "source": []
  }
 ],
 "metadata": {
  "kernelspec": {
   "display_name": "Python 3",
   "language": "python",
   "name": "python3"
  },
  "language_info": {
   "codemirror_mode": {
    "name": "ipython",
    "version": 3
   },
   "file_extension": ".py",
   "mimetype": "text/x-python",
   "name": "python",
   "nbconvert_exporter": "python",
   "pygments_lexer": "ipython3",
   "version": "3.6.5"
  }
 },
 "nbformat": 4,
 "nbformat_minor": 2
}
