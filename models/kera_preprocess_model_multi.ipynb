{
 "cells": [
  {
   "cell_type": "markdown",
   "metadata": {},
   "source": [
    "# Data prep for the Multi-Label Neural Network\n",
    "\n",
    "## Part 1 - Data Prep\n",
    "\n",
    "### ImageDataGen \n",
    "### flow_from_dataframe \n",
    "\n",
    "\n",
    "## Part 2  - Data Augment \n",
    "\n",
    "\n",
    "\n",
    "## Part 3  - Neural Network \n",
    "\n",
    "\n",
    "\n",
    "#### Updated: May 14, 2019\n",
    "#### By: Patrick L. Cavins "
   ]
  },
  {
   "cell_type": "code",
   "execution_count": 38,
   "metadata": {},
   "outputs": [],
   "source": [
    "##import libraries \n",
    "\n",
    "#dataprep\n",
    "import pandas as pd \n",
    "from sklearn.model_selection import train_test_split\n",
    "import numpy as np \n",
    "\n",
    "##keras stuff \n",
    "from keras.models import Sequential\n",
    "from keras.layers import Conv2D, MaxPooling2D\n",
    "from keras.layers import Activation, Dropout, Flatten, Dense, BatchNormalization\n",
    "from keras.preprocessing.image import ImageDataGenerator\n",
    "\n",
    "#saving prediction output \n",
    "import pickle\n",
    "\n",
    "#graphing\n",
    "import matplotlib.pyplot as plt"
   ]
  },
  {
   "cell_type": "markdown",
   "metadata": {},
   "source": [
    "## Data Prep\n",
    "\n",
    "### Import the dataframe from csv"
   ]
  },
  {
   "cell_type": "code",
   "execution_count": 3,
   "metadata": {},
   "outputs": [],
   "source": [
    "image_df = pd.read_csv('./data_multi_label/full_image_df.csv')\n",
    "image_df = image_df.drop(columns='Unnamed: 0')\n",
    "\n",
    "image_df.head()\n",
    "\n",
    "image_df.image_saved_as = image_df.image_saved_as.apply(lambda x: x +'.png')"
   ]
  },
  {
   "cell_type": "code",
   "execution_count": 4,
   "metadata": {},
   "outputs": [
    {
     "name": "stdout",
     "output_type": "stream",
     "text": [
      "(2313, 17)\n",
      "--------------------------------------------------\n",
      "Confirming the status of null values in the dataframe\n",
      "AKA               0\n",
      "AKE               0\n",
      "AKH               0\n",
      "AKY               0\n",
      "ALC               0\n",
      "AMN               0\n",
      "BNZ               0\n",
      "COC               0\n",
      "COH               0\n",
      "COO               0\n",
      "COONH2            0\n",
      "KEY               0\n",
      "OH                0\n",
      "SHH               0\n",
      "cid               0\n",
      "image_saved_as    0\n",
      "ring              0\n",
      "dtype: int64\n",
      "--------------------------------------------------\n",
      "The current break break down of this multi-label classifcation problem\n",
      "AKA                                                            1346\n",
      "AKE                                                             249\n",
      "AKH                                                             222\n",
      "AKY                                                             189\n",
      "ALC                                                              38\n",
      "AMN                                                             325\n",
      "BNZ                                                            1231\n",
      "COC                                                             433\n",
      "COH                                                             181\n",
      "COO                                                             518\n",
      "COONH2                                                          186\n",
      "KEY                                                             271\n",
      "OH                                                               12\n",
      "SHH                                                             283\n",
      "cid                                                    130197711729\n",
      "image_saved_as    3_bromo_2_butanone_13156.png3_bromo_2_butanone...\n",
      "ring                                                           1709\n",
      "dtype: object\n"
     ]
    }
   ],
   "source": [
    "print (image_df.shape)\n",
    "\n",
    "print (\"--\"*25)\n",
    "print ('Confirming the status of null values in the dataframe')\n",
    "\n",
    "print (image_df.isnull().sum())\n",
    "\n",
    "print (\"--\"*25)\n",
    "\n",
    "print ('The current break break down of this multi-label classifcation problem')\n",
    "\n",
    "print (image_df.sum())"
   ]
  },
  {
   "cell_type": "markdown",
   "metadata": {},
   "source": [
    "### train_test_split \n",
    "\n",
    "- We are initially only going to select some features from the dataframe to build the first iteration of the neural network\n",
    "    - We are going to be using the following columns, 'AKA', 'AKE', 'ring', 'BNZ'"
   ]
  },
  {
   "cell_type": "code",
   "execution_count": 5,
   "metadata": {},
   "outputs": [],
   "source": [
    "# Setting up the Train/Test/Split\n",
    "\n",
    "#features for the neural network, in this case this is what we are trying to predict\n",
    "features = ['ring', 'BNZ', 'AKA', 'AKE']\n",
    "\n",
    "#this will be aliased as y_col later, needed for the flow_from_dataframe\n",
    "X = image_df[features]\n",
    "\n",
    "#this will be aliases as x_col later, needed for the flow_from_dataframe \n",
    "y = image_df['image_saved_as']"
   ]
  },
  {
   "cell_type": "code",
   "execution_count": 6,
   "metadata": {},
   "outputs": [],
   "source": [
    "X_train, X_test, y_train, y_test = train_test_split(X, y, random_state=42)"
   ]
  },
  {
   "cell_type": "code",
   "execution_count": 7,
   "metadata": {},
   "outputs": [
    {
     "data": {
      "text/html": [
       "<div>\n",
       "<style scoped>\n",
       "    .dataframe tbody tr th:only-of-type {\n",
       "        vertical-align: middle;\n",
       "    }\n",
       "\n",
       "    .dataframe tbody tr th {\n",
       "        vertical-align: top;\n",
       "    }\n",
       "\n",
       "    .dataframe thead th {\n",
       "        text-align: right;\n",
       "    }\n",
       "</style>\n",
       "<table border=\"1\" class=\"dataframe\">\n",
       "  <thead>\n",
       "    <tr style=\"text-align: right;\">\n",
       "      <th></th>\n",
       "      <th>ring</th>\n",
       "      <th>BNZ</th>\n",
       "      <th>AKA</th>\n",
       "      <th>AKE</th>\n",
       "    </tr>\n",
       "  </thead>\n",
       "  <tbody>\n",
       "    <tr>\n",
       "      <th>1303</th>\n",
       "      <td>1.0</td>\n",
       "      <td>0.0</td>\n",
       "      <td>0.0</td>\n",
       "      <td>1.0</td>\n",
       "    </tr>\n",
       "    <tr>\n",
       "      <th>1751</th>\n",
       "      <td>1.0</td>\n",
       "      <td>1.0</td>\n",
       "      <td>0.0</td>\n",
       "      <td>0.0</td>\n",
       "    </tr>\n",
       "    <tr>\n",
       "      <th>1962</th>\n",
       "      <td>0.0</td>\n",
       "      <td>0.0</td>\n",
       "      <td>1.0</td>\n",
       "      <td>1.0</td>\n",
       "    </tr>\n",
       "    <tr>\n",
       "      <th>1447</th>\n",
       "      <td>1.0</td>\n",
       "      <td>1.0</td>\n",
       "      <td>0.0</td>\n",
       "      <td>0.0</td>\n",
       "    </tr>\n",
       "    <tr>\n",
       "      <th>1653</th>\n",
       "      <td>1.0</td>\n",
       "      <td>0.0</td>\n",
       "      <td>1.0</td>\n",
       "      <td>0.0</td>\n",
       "    </tr>\n",
       "  </tbody>\n",
       "</table>\n",
       "</div>"
      ],
      "text/plain": [
       "      ring  BNZ  AKA  AKE\n",
       "1303   1.0  0.0  0.0  1.0\n",
       "1751   1.0  1.0  0.0  0.0\n",
       "1962   0.0  0.0  1.0  1.0\n",
       "1447   1.0  1.0  0.0  0.0\n",
       "1653   1.0  0.0  1.0  0.0"
      ]
     },
     "execution_count": 7,
     "metadata": {},
     "output_type": "execute_result"
    }
   ],
   "source": [
    "X_train.head()"
   ]
  },
  {
   "cell_type": "code",
   "execution_count": 8,
   "metadata": {
    "scrolled": true
   },
   "outputs": [
    {
     "name": "stderr",
     "output_type": "stream",
     "text": [
      "/anaconda3/lib/python3.6/site-packages/ipykernel_launcher.py:2: SettingWithCopyWarning: \n",
      "A value is trying to be set on a copy of a slice from a DataFrame.\n",
      "Try using .loc[row_indexer,col_indexer] = value instead\n",
      "\n",
      "See the caveats in the documentation: http://pandas.pydata.org/pandas-docs/stable/indexing.html#indexing-view-versus-copy\n",
      "  \n"
     ]
    }
   ],
   "source": [
    "X_train['label'] = X_train[X_train.columns[:]].apply(lambda x: ','.join(x.astype('str')), \n",
    "                                                   axis=1)"
   ]
  },
  {
   "cell_type": "code",
   "execution_count": 9,
   "metadata": {},
   "outputs": [
    {
     "name": "stderr",
     "output_type": "stream",
     "text": [
      "/anaconda3/lib/python3.6/site-packages/ipykernel_launcher.py:2: SettingWithCopyWarning: \n",
      "A value is trying to be set on a copy of a slice from a DataFrame.\n",
      "Try using .loc[row_indexer,col_indexer] = value instead\n",
      "\n",
      "See the caveats in the documentation: http://pandas.pydata.org/pandas-docs/stable/indexing.html#indexing-view-versus-copy\n",
      "  \n"
     ]
    }
   ],
   "source": [
    "X_test['label'] = X_test[X_test.columns[:]].apply(lambda x: ','.join(x.astype('str')), \n",
    "                                                   axis=1)"
   ]
  },
  {
   "cell_type": "markdown",
   "metadata": {},
   "source": [
    "### Concat the DFs back together! "
   ]
  },
  {
   "cell_type": "code",
   "execution_count": 10,
   "metadata": {},
   "outputs": [
    {
     "data": {
      "text/html": [
       "<div>\n",
       "<style scoped>\n",
       "    .dataframe tbody tr th:only-of-type {\n",
       "        vertical-align: middle;\n",
       "    }\n",
       "\n",
       "    .dataframe tbody tr th {\n",
       "        vertical-align: top;\n",
       "    }\n",
       "\n",
       "    .dataframe thead th {\n",
       "        text-align: right;\n",
       "    }\n",
       "</style>\n",
       "<table border=\"1\" class=\"dataframe\">\n",
       "  <thead>\n",
       "    <tr style=\"text-align: right;\">\n",
       "      <th></th>\n",
       "      <th>ring</th>\n",
       "      <th>BNZ</th>\n",
       "      <th>AKA</th>\n",
       "      <th>AKE</th>\n",
       "      <th>label</th>\n",
       "      <th>image_saved_as</th>\n",
       "    </tr>\n",
       "  </thead>\n",
       "  <tbody>\n",
       "    <tr>\n",
       "      <th>1100</th>\n",
       "      <td>1.0</td>\n",
       "      <td>1.0</td>\n",
       "      <td>1.0</td>\n",
       "      <td>0.0</td>\n",
       "      <td>1.0,1.0,1.0,0.0</td>\n",
       "      <td>4_tert_butylbenzoic_acid_8167110.png</td>\n",
       "    </tr>\n",
       "    <tr>\n",
       "      <th>917</th>\n",
       "      <td>0.0</td>\n",
       "      <td>1.0</td>\n",
       "      <td>0.0</td>\n",
       "      <td>1.0</td>\n",
       "      <td>0.0,1.0,0.0,1.0</td>\n",
       "      <td>phenyl_vinyl_sulfoxide_5370672.png</td>\n",
       "    </tr>\n",
       "    <tr>\n",
       "      <th>622</th>\n",
       "      <td>1.0</td>\n",
       "      <td>1.0</td>\n",
       "      <td>0.0</td>\n",
       "      <td>0.0</td>\n",
       "      <td>1.0,1.0,0.0,0.0</td>\n",
       "      <td>benzamide_522832.png</td>\n",
       "    </tr>\n",
       "    <tr>\n",
       "      <th>269</th>\n",
       "      <td>1.0</td>\n",
       "      <td>1.0</td>\n",
       "      <td>0.0</td>\n",
       "      <td>0.0</td>\n",
       "      <td>1.0,1.0,0.0,0.0</td>\n",
       "      <td>diphenyl_ether_20298601.png</td>\n",
       "    </tr>\n",
       "    <tr>\n",
       "      <th>1347</th>\n",
       "      <td>1.0</td>\n",
       "      <td>1.0</td>\n",
       "      <td>1.0</td>\n",
       "      <td>0.0</td>\n",
       "      <td>1.0,1.0,1.0,0.0</td>\n",
       "      <td>3_butynyl_tosylate_20501275.png</td>\n",
       "    </tr>\n",
       "  </tbody>\n",
       "</table>\n",
       "</div>"
      ],
      "text/plain": [
       "      ring  BNZ  AKA  AKE            label  \\\n",
       "1100   1.0  1.0  1.0  0.0  1.0,1.0,1.0,0.0   \n",
       "917    0.0  1.0  0.0  1.0  0.0,1.0,0.0,1.0   \n",
       "622    1.0  1.0  0.0  0.0  1.0,1.0,0.0,0.0   \n",
       "269    1.0  1.0  0.0  0.0  1.0,1.0,0.0,0.0   \n",
       "1347   1.0  1.0  1.0  0.0  1.0,1.0,1.0,0.0   \n",
       "\n",
       "                            image_saved_as  \n",
       "1100  4_tert_butylbenzoic_acid_8167110.png  \n",
       "917     phenyl_vinyl_sulfoxide_5370672.png  \n",
       "622                   benzamide_522832.png  \n",
       "269            diphenyl_ether_20298601.png  \n",
       "1347       3_butynyl_tosylate_20501275.png  "
      ]
     },
     "execution_count": 10,
     "metadata": {},
     "output_type": "execute_result"
    }
   ],
   "source": [
    "full_test_df = pd.concat([X_test, y_test], axis=1)\n",
    "\n",
    "full_test_df.head()"
   ]
  },
  {
   "cell_type": "code",
   "execution_count": 11,
   "metadata": {},
   "outputs": [
    {
     "data": {
      "text/html": [
       "<div>\n",
       "<style scoped>\n",
       "    .dataframe tbody tr th:only-of-type {\n",
       "        vertical-align: middle;\n",
       "    }\n",
       "\n",
       "    .dataframe tbody tr th {\n",
       "        vertical-align: top;\n",
       "    }\n",
       "\n",
       "    .dataframe thead th {\n",
       "        text-align: right;\n",
       "    }\n",
       "</style>\n",
       "<table border=\"1\" class=\"dataframe\">\n",
       "  <thead>\n",
       "    <tr style=\"text-align: right;\">\n",
       "      <th></th>\n",
       "      <th>ring</th>\n",
       "      <th>BNZ</th>\n",
       "      <th>AKA</th>\n",
       "      <th>AKE</th>\n",
       "      <th>label</th>\n",
       "      <th>image_saved_as</th>\n",
       "    </tr>\n",
       "  </thead>\n",
       "  <tbody>\n",
       "    <tr>\n",
       "      <th>1303</th>\n",
       "      <td>1.0</td>\n",
       "      <td>0.0</td>\n",
       "      <td>0.0</td>\n",
       "      <td>1.0</td>\n",
       "      <td>1.0,0.0,0.0,1.0</td>\n",
       "      <td>thiophene_87460260.png</td>\n",
       "    </tr>\n",
       "    <tr>\n",
       "      <th>1751</th>\n",
       "      <td>1.0</td>\n",
       "      <td>1.0</td>\n",
       "      <td>0.0</td>\n",
       "      <td>0.0</td>\n",
       "      <td>1.0,1.0,0.0,0.0</td>\n",
       "      <td>metanilamide_7377.png</td>\n",
       "    </tr>\n",
       "    <tr>\n",
       "      <th>1962</th>\n",
       "      <td>0.0</td>\n",
       "      <td>0.0</td>\n",
       "      <td>1.0</td>\n",
       "      <td>1.0</td>\n",
       "      <td>0.0,0.0,1.0,1.0</td>\n",
       "      <td>isoprene_10582734.png</td>\n",
       "    </tr>\n",
       "    <tr>\n",
       "      <th>1447</th>\n",
       "      <td>1.0</td>\n",
       "      <td>1.0</td>\n",
       "      <td>0.0</td>\n",
       "      <td>0.0</td>\n",
       "      <td>1.0,1.0,0.0,0.0</td>\n",
       "      <td>benzaldehyde_20447206.png</td>\n",
       "    </tr>\n",
       "    <tr>\n",
       "      <th>1653</th>\n",
       "      <td>1.0</td>\n",
       "      <td>0.0</td>\n",
       "      <td>1.0</td>\n",
       "      <td>0.0</td>\n",
       "      <td>1.0,0.0,1.0,0.0</td>\n",
       "      <td>hexanoic_acid_87093515.png</td>\n",
       "    </tr>\n",
       "  </tbody>\n",
       "</table>\n",
       "</div>"
      ],
      "text/plain": [
       "      ring  BNZ  AKA  AKE            label              image_saved_as\n",
       "1303   1.0  0.0  0.0  1.0  1.0,0.0,0.0,1.0      thiophene_87460260.png\n",
       "1751   1.0  1.0  0.0  0.0  1.0,1.0,0.0,0.0       metanilamide_7377.png\n",
       "1962   0.0  0.0  1.0  1.0  0.0,0.0,1.0,1.0       isoprene_10582734.png\n",
       "1447   1.0  1.0  0.0  0.0  1.0,1.0,0.0,0.0   benzaldehyde_20447206.png\n",
       "1653   1.0  0.0  1.0  0.0  1.0,0.0,1.0,0.0  hexanoic_acid_87093515.png"
      ]
     },
     "execution_count": 11,
     "metadata": {},
     "output_type": "execute_result"
    }
   ],
   "source": [
    "full_train_df = pd.concat([X_train, y_train], axis=1)\n",
    "\n",
    "full_train_df.head()"
   ]
  },
  {
   "cell_type": "markdown",
   "metadata": {},
   "source": [
    "### Making The Label List"
   ]
  },
  {
   "cell_type": "code",
   "execution_count": 12,
   "metadata": {},
   "outputs": [],
   "source": [
    "## Training for loop... \n",
    "\n",
    "label_list = []\n",
    "for entry in full_train_df['label']:\n",
    "#     print (entry)\n",
    "    new_label = list(entry)\n",
    "    label_list.append(new_label)\n",
    "    \n",
    "full_train_df['label_list'] = label_list    "
   ]
  },
  {
   "cell_type": "code",
   "execution_count": 13,
   "metadata": {},
   "outputs": [
    {
     "data": {
      "text/plain": [
       "list"
      ]
     },
     "execution_count": 13,
     "metadata": {},
     "output_type": "execute_result"
    }
   ],
   "source": [
    "type(full_train_df['label_list'][0])"
   ]
  },
  {
   "cell_type": "code",
   "execution_count": 14,
   "metadata": {},
   "outputs": [
    {
     "data": {
      "text/html": [
       "<div>\n",
       "<style scoped>\n",
       "    .dataframe tbody tr th:only-of-type {\n",
       "        vertical-align: middle;\n",
       "    }\n",
       "\n",
       "    .dataframe tbody tr th {\n",
       "        vertical-align: top;\n",
       "    }\n",
       "\n",
       "    .dataframe thead th {\n",
       "        text-align: right;\n",
       "    }\n",
       "</style>\n",
       "<table border=\"1\" class=\"dataframe\">\n",
       "  <thead>\n",
       "    <tr style=\"text-align: right;\">\n",
       "      <th></th>\n",
       "      <th>ring</th>\n",
       "      <th>BNZ</th>\n",
       "      <th>AKA</th>\n",
       "      <th>AKE</th>\n",
       "      <th>label</th>\n",
       "      <th>image_saved_as</th>\n",
       "      <th>label_list</th>\n",
       "    </tr>\n",
       "  </thead>\n",
       "  <tbody>\n",
       "    <tr>\n",
       "      <th>1303</th>\n",
       "      <td>1.0</td>\n",
       "      <td>0.0</td>\n",
       "      <td>0.0</td>\n",
       "      <td>1.0</td>\n",
       "      <td>1.0,0.0,0.0,1.0</td>\n",
       "      <td>thiophene_87460260.png</td>\n",
       "      <td>[1, ., 0, ,, 0, ., 0, ,, 0, ., 0, ,, 1, ., 0]</td>\n",
       "    </tr>\n",
       "    <tr>\n",
       "      <th>1751</th>\n",
       "      <td>1.0</td>\n",
       "      <td>1.0</td>\n",
       "      <td>0.0</td>\n",
       "      <td>0.0</td>\n",
       "      <td>1.0,1.0,0.0,0.0</td>\n",
       "      <td>metanilamide_7377.png</td>\n",
       "      <td>[1, ., 0, ,, 1, ., 0, ,, 0, ., 0, ,, 0, ., 0]</td>\n",
       "    </tr>\n",
       "    <tr>\n",
       "      <th>1962</th>\n",
       "      <td>0.0</td>\n",
       "      <td>0.0</td>\n",
       "      <td>1.0</td>\n",
       "      <td>1.0</td>\n",
       "      <td>0.0,0.0,1.0,1.0</td>\n",
       "      <td>isoprene_10582734.png</td>\n",
       "      <td>[0, ., 0, ,, 0, ., 0, ,, 1, ., 0, ,, 1, ., 0]</td>\n",
       "    </tr>\n",
       "    <tr>\n",
       "      <th>1447</th>\n",
       "      <td>1.0</td>\n",
       "      <td>1.0</td>\n",
       "      <td>0.0</td>\n",
       "      <td>0.0</td>\n",
       "      <td>1.0,1.0,0.0,0.0</td>\n",
       "      <td>benzaldehyde_20447206.png</td>\n",
       "      <td>[1, ., 0, ,, 1, ., 0, ,, 0, ., 0, ,, 0, ., 0]</td>\n",
       "    </tr>\n",
       "    <tr>\n",
       "      <th>1653</th>\n",
       "      <td>1.0</td>\n",
       "      <td>0.0</td>\n",
       "      <td>1.0</td>\n",
       "      <td>0.0</td>\n",
       "      <td>1.0,0.0,1.0,0.0</td>\n",
       "      <td>hexanoic_acid_87093515.png</td>\n",
       "      <td>[1, ., 0, ,, 0, ., 0, ,, 1, ., 0, ,, 0, ., 0]</td>\n",
       "    </tr>\n",
       "  </tbody>\n",
       "</table>\n",
       "</div>"
      ],
      "text/plain": [
       "      ring  BNZ  AKA  AKE            label              image_saved_as  \\\n",
       "1303   1.0  0.0  0.0  1.0  1.0,0.0,0.0,1.0      thiophene_87460260.png   \n",
       "1751   1.0  1.0  0.0  0.0  1.0,1.0,0.0,0.0       metanilamide_7377.png   \n",
       "1962   0.0  0.0  1.0  1.0  0.0,0.0,1.0,1.0       isoprene_10582734.png   \n",
       "1447   1.0  1.0  0.0  0.0  1.0,1.0,0.0,0.0   benzaldehyde_20447206.png   \n",
       "1653   1.0  0.0  1.0  0.0  1.0,0.0,1.0,0.0  hexanoic_acid_87093515.png   \n",
       "\n",
       "                                         label_list  \n",
       "1303  [1, ., 0, ,, 0, ., 0, ,, 0, ., 0, ,, 1, ., 0]  \n",
       "1751  [1, ., 0, ,, 1, ., 0, ,, 0, ., 0, ,, 0, ., 0]  \n",
       "1962  [0, ., 0, ,, 0, ., 0, ,, 1, ., 0, ,, 1, ., 0]  \n",
       "1447  [1, ., 0, ,, 1, ., 0, ,, 0, ., 0, ,, 0, ., 0]  \n",
       "1653  [1, ., 0, ,, 0, ., 0, ,, 1, ., 0, ,, 0, ., 0]  "
      ]
     },
     "execution_count": 14,
     "metadata": {},
     "output_type": "execute_result"
    }
   ],
   "source": [
    "full_train_df.head()"
   ]
  },
  {
   "cell_type": "code",
   "execution_count": 15,
   "metadata": {},
   "outputs": [],
   "source": [
    "## testing loop \n",
    "\n",
    "label_list = []\n",
    "for entry in full_test_df['label']:\n",
    "#     print (entry)\n",
    "    new_label = list(entry)\n",
    "    label_list.append(new_label)\n",
    "    \n",
    "full_test_df['label_list'] = label_list"
   ]
  },
  {
   "cell_type": "code",
   "execution_count": 16,
   "metadata": {},
   "outputs": [
    {
     "data": {
      "text/html": [
       "<div>\n",
       "<style scoped>\n",
       "    .dataframe tbody tr th:only-of-type {\n",
       "        vertical-align: middle;\n",
       "    }\n",
       "\n",
       "    .dataframe tbody tr th {\n",
       "        vertical-align: top;\n",
       "    }\n",
       "\n",
       "    .dataframe thead th {\n",
       "        text-align: right;\n",
       "    }\n",
       "</style>\n",
       "<table border=\"1\" class=\"dataframe\">\n",
       "  <thead>\n",
       "    <tr style=\"text-align: right;\">\n",
       "      <th></th>\n",
       "      <th>ring</th>\n",
       "      <th>BNZ</th>\n",
       "      <th>AKA</th>\n",
       "      <th>AKE</th>\n",
       "      <th>label</th>\n",
       "      <th>image_saved_as</th>\n",
       "      <th>label_list</th>\n",
       "    </tr>\n",
       "  </thead>\n",
       "  <tbody>\n",
       "    <tr>\n",
       "      <th>1100</th>\n",
       "      <td>1.0</td>\n",
       "      <td>1.0</td>\n",
       "      <td>1.0</td>\n",
       "      <td>0.0</td>\n",
       "      <td>1.0,1.0,1.0,0.0</td>\n",
       "      <td>4_tert_butylbenzoic_acid_8167110.png</td>\n",
       "      <td>[1, ., 0, ,, 1, ., 0, ,, 1, ., 0, ,, 0, ., 0]</td>\n",
       "    </tr>\n",
       "    <tr>\n",
       "      <th>917</th>\n",
       "      <td>0.0</td>\n",
       "      <td>1.0</td>\n",
       "      <td>0.0</td>\n",
       "      <td>1.0</td>\n",
       "      <td>0.0,1.0,0.0,1.0</td>\n",
       "      <td>phenyl_vinyl_sulfoxide_5370672.png</td>\n",
       "      <td>[0, ., 0, ,, 1, ., 0, ,, 0, ., 0, ,, 1, ., 0]</td>\n",
       "    </tr>\n",
       "    <tr>\n",
       "      <th>622</th>\n",
       "      <td>1.0</td>\n",
       "      <td>1.0</td>\n",
       "      <td>0.0</td>\n",
       "      <td>0.0</td>\n",
       "      <td>1.0,1.0,0.0,0.0</td>\n",
       "      <td>benzamide_522832.png</td>\n",
       "      <td>[1, ., 0, ,, 1, ., 0, ,, 0, ., 0, ,, 0, ., 0]</td>\n",
       "    </tr>\n",
       "    <tr>\n",
       "      <th>269</th>\n",
       "      <td>1.0</td>\n",
       "      <td>1.0</td>\n",
       "      <td>0.0</td>\n",
       "      <td>0.0</td>\n",
       "      <td>1.0,1.0,0.0,0.0</td>\n",
       "      <td>diphenyl_ether_20298601.png</td>\n",
       "      <td>[1, ., 0, ,, 1, ., 0, ,, 0, ., 0, ,, 0, ., 0]</td>\n",
       "    </tr>\n",
       "    <tr>\n",
       "      <th>1347</th>\n",
       "      <td>1.0</td>\n",
       "      <td>1.0</td>\n",
       "      <td>1.0</td>\n",
       "      <td>0.0</td>\n",
       "      <td>1.0,1.0,1.0,0.0</td>\n",
       "      <td>3_butynyl_tosylate_20501275.png</td>\n",
       "      <td>[1, ., 0, ,, 1, ., 0, ,, 1, ., 0, ,, 0, ., 0]</td>\n",
       "    </tr>\n",
       "  </tbody>\n",
       "</table>\n",
       "</div>"
      ],
      "text/plain": [
       "      ring  BNZ  AKA  AKE            label  \\\n",
       "1100   1.0  1.0  1.0  0.0  1.0,1.0,1.0,0.0   \n",
       "917    0.0  1.0  0.0  1.0  0.0,1.0,0.0,1.0   \n",
       "622    1.0  1.0  0.0  0.0  1.0,1.0,0.0,0.0   \n",
       "269    1.0  1.0  0.0  0.0  1.0,1.0,0.0,0.0   \n",
       "1347   1.0  1.0  1.0  0.0  1.0,1.0,1.0,0.0   \n",
       "\n",
       "                            image_saved_as  \\\n",
       "1100  4_tert_butylbenzoic_acid_8167110.png   \n",
       "917     phenyl_vinyl_sulfoxide_5370672.png   \n",
       "622                   benzamide_522832.png   \n",
       "269            diphenyl_ether_20298601.png   \n",
       "1347       3_butynyl_tosylate_20501275.png   \n",
       "\n",
       "                                         label_list  \n",
       "1100  [1, ., 0, ,, 1, ., 0, ,, 1, ., 0, ,, 0, ., 0]  \n",
       "917   [0, ., 0, ,, 1, ., 0, ,, 0, ., 0, ,, 1, ., 0]  \n",
       "622   [1, ., 0, ,, 1, ., 0, ,, 0, ., 0, ,, 0, ., 0]  \n",
       "269   [1, ., 0, ,, 1, ., 0, ,, 0, ., 0, ,, 0, ., 0]  \n",
       "1347  [1, ., 0, ,, 1, ., 0, ,, 1, ., 0, ,, 0, ., 0]  "
      ]
     },
     "execution_count": 16,
     "metadata": {},
     "output_type": "execute_result"
    }
   ],
   "source": [
    "full_test_df.head()"
   ]
  },
  {
   "cell_type": "markdown",
   "metadata": {},
   "source": [
    "## Part 2:  Data Augment "
   ]
  },
  {
   "cell_type": "code",
   "execution_count": 17,
   "metadata": {},
   "outputs": [],
   "source": [
    "#Instantiate \n",
    "train_datagen = ImageDataGenerator(rotation_range = 30, #shear\n",
    "                                   rescale=1./255)\n",
    "                                   \n",
    "test_datagen = ImageDataGenerator(rotation_range=30,\n",
    "                                  rescale=1./255)\n",
    "\n",
    "# datagen=ImageDataGenerator(rescale=1./255.,validation_split=0.25)\n"
   ]
  },
  {
   "cell_type": "code",
   "execution_count": 36,
   "metadata": {
    "scrolled": true
   },
   "outputs": [
    {
     "name": "stdout",
     "output_type": "stream",
     "text": [
      "Found 1734 images belonging to 4 classes.\n"
     ]
    }
   ],
   "source": [
    "#We need to fit the ImageDataGenerator Class to the X_train, X_test... ect.\n",
    "\n",
    "#Starting off with X_train/y_train => They are flipped \n",
    "\n",
    "batch = 16\n",
    "\n",
    "training_generator = train_datagen.flow_from_dataframe(\n",
    "    full_train_df, \n",
    "    directory = './images_multi_label/',\n",
    "    x_col = 'image_saved_as',\n",
    "    y_col = 'label_list',\n",
    "    target_size = (300,300),\n",
    "    color_mode = 'grayscale',\n",
    "    class_mode = 'categorical',\n",
    "    batch_size = batch,\n",
    "#     drop_duplicates = False,\n",
    "    save_to_dir = '/Users/patrickcavins/Desktop/augment/',\n",
    "    save_format = '.png'\n",
    ")\n"
   ]
  },
  {
   "cell_type": "code",
   "execution_count": 37,
   "metadata": {},
   "outputs": [
    {
     "name": "stdout",
     "output_type": "stream",
     "text": [
      "Found 579 images belonging to 4 classes.\n"
     ]
    }
   ],
   "source": [
    "#Testin Time! \n",
    "\n",
    "test_generator = test_datagen.flow_from_dataframe(\n",
    "    full_test_df, \n",
    "    directory = './images_multi_label/',\n",
    "    x_col = 'image_saved_as',\n",
    "    y_col = 'label_list',\n",
    "    target_size = (300,300),\n",
    "    color_mode = 'grayscale',\n",
    "    class_mode = 'categorical',\n",
    "    batch_size = batch,\n",
    "#     drop_duplicates = False,\n",
    "    save_to_dir = '/Users/patrickcavins/Desktop/augment/',\n",
    "    save_format = '.png'\n",
    ")"
   ]
  },
  {
   "cell_type": "code",
   "execution_count": 39,
   "metadata": {
    "scrolled": true
   },
   "outputs": [],
   "source": [
    "model = Sequential()\n",
    "\n",
    "#add more layers/filter because of image\n",
    "\n",
    "model.add(Conv2D(200, (3, 3), input_shape=(300, 300, 1)))\n",
    "model.add(Activation('relu'))\n",
    "model.add(MaxPooling2D(pool_size=(2, 2)))\n",
    "model.add(Dropout(0.75))  \n",
    "\n",
    "model.add(Conv2D(64, (3, 3))) #should I increase? It should learn more complicated relations \n",
    "model.add(Activation('relu'))\n",
    "model.add(MaxPooling2D(pool_size=(2, 2)))\n",
    "model.add(Dropout(0.75))\n",
    "\n",
    "model.add(Conv2D(32, (3, 3))) #Same thing here... maybe 32,64, 128... \n",
    "model.add(Activation('relu'))\n",
    "model.add(MaxPooling2D(pool_size=(2, 2)))\n",
    "\n",
    "model.add(Flatten())  # this converts our 3D feature maps to 1D feature vectors\n",
    "model.add(Dense(128))\n",
    "model.add(Activation('relu'))\n",
    "model.add(Dropout(0.75)) # 90% \n",
    "model.add(Dense(4))\n",
    "model.add(Activation('sigmoid'))"
   ]
  },
  {
   "cell_type": "code",
   "execution_count": 40,
   "metadata": {},
   "outputs": [
    {
     "name": "stdout",
     "output_type": "stream",
     "text": [
      "_________________________________________________________________\n",
      "Layer (type)                 Output Shape              Param #   \n",
      "=================================================================\n",
      "conv2d_7 (Conv2D)            (None, 298, 298, 200)     2000      \n",
      "_________________________________________________________________\n",
      "activation_11 (Activation)   (None, 298, 298, 200)     0         \n",
      "_________________________________________________________________\n",
      "max_pooling2d_7 (MaxPooling2 (None, 149, 149, 200)     0         \n",
      "_________________________________________________________________\n",
      "dropout_7 (Dropout)          (None, 149, 149, 200)     0         \n",
      "_________________________________________________________________\n",
      "conv2d_8 (Conv2D)            (None, 147, 147, 64)      115264    \n",
      "_________________________________________________________________\n",
      "activation_12 (Activation)   (None, 147, 147, 64)      0         \n",
      "_________________________________________________________________\n",
      "max_pooling2d_8 (MaxPooling2 (None, 73, 73, 64)        0         \n",
      "_________________________________________________________________\n",
      "dropout_8 (Dropout)          (None, 73, 73, 64)        0         \n",
      "_________________________________________________________________\n",
      "conv2d_9 (Conv2D)            (None, 71, 71, 32)        18464     \n",
      "_________________________________________________________________\n",
      "activation_13 (Activation)   (None, 71, 71, 32)        0         \n",
      "_________________________________________________________________\n",
      "max_pooling2d_9 (MaxPooling2 (None, 35, 35, 32)        0         \n",
      "_________________________________________________________________\n",
      "flatten_5 (Flatten)          (None, 39200)             0         \n",
      "_________________________________________________________________\n",
      "dense_5 (Dense)              (None, 128)               5017728   \n",
      "_________________________________________________________________\n",
      "activation_14 (Activation)   (None, 128)               0         \n",
      "_________________________________________________________________\n",
      "dropout_9 (Dropout)          (None, 128)               0         \n",
      "_________________________________________________________________\n",
      "dense_6 (Dense)              (None, 4)                 516       \n",
      "_________________________________________________________________\n",
      "activation_15 (Activation)   (None, 4)                 0         \n",
      "=================================================================\n",
      "Total params: 5,153,972\n",
      "Trainable params: 5,153,972\n",
      "Non-trainable params: 0\n",
      "_________________________________________________________________\n"
     ]
    }
   ],
   "source": [
    "#Summary \n",
    "\n",
    "model.summary()"
   ]
  },
  {
   "cell_type": "code",
   "execution_count": 41,
   "metadata": {},
   "outputs": [],
   "source": [
    "###\n",
    "from keras import optimizers\n",
    "\n",
    "ad_delta = optimizers.Adadelta(lr = 0.01, rho = 0.5, decay = 0.001)\n",
    "\n",
    "# adam = optimizers.Adam(lr=0.0001, beta_1=0.9, beta_2=0.999, epsilon=None, decay=0.00001, amsgrad=False)\n",
    "\n",
    "model.compile(loss='binary_crossentropy', optimizer= ad_delta, metrics=['accuracy'])"
   ]
  },
  {
   "cell_type": "code",
   "execution_count": 42,
   "metadata": {},
   "outputs": [
    {
     "name": "stdout",
     "output_type": "stream",
     "text": [
      "Epoch 1/10\n",
      "10/10 [==============================] - 77s 8s/step - loss: 0.6114 - acc: 0.6813 - val_loss: 0.6424 - val_acc: 1.0000\n",
      "Epoch 2/10\n",
      "10/10 [==============================] - 80s 8s/step - loss: 0.2149 - acc: 0.9266 - val_loss: 0.6016 - val_acc: 1.0000\n",
      "Epoch 3/10\n",
      "10/10 [==============================] - 91s 9s/step - loss: 0.1052 - acc: 0.9750 - val_loss: 0.5663 - val_acc: 1.0000\n",
      "Epoch 4/10\n",
      "10/10 [==============================] - 95s 10s/step - loss: 0.0804 - acc: 0.9781 - val_loss: 0.5421 - val_acc: 1.0000\n",
      "Epoch 5/10\n",
      "10/10 [==============================] - 98s 10s/step - loss: 0.0593 - acc: 0.9891 - val_loss: 0.5191 - val_acc: 1.0000\n",
      "Epoch 6/10\n",
      "10/10 [==============================] - 90s 9s/step - loss: 0.0533 - acc: 0.9906 - val_loss: 0.4974 - val_acc: 1.0000\n",
      "Epoch 7/10\n",
      "10/10 [==============================] - 91s 9s/step - loss: 0.0359 - acc: 0.9906 - val_loss: 0.4790 - val_acc: 1.0000\n",
      "Epoch 8/10\n",
      "10/10 [==============================] - 91s 9s/step - loss: 0.0444 - acc: 0.9875 - val_loss: 0.4649 - val_acc: 1.0000\n",
      "Epoch 9/10\n",
      "10/10 [==============================] - 94s 9s/step - loss: 0.0281 - acc: 0.9938 - val_loss: 0.4504 - val_acc: 1.0000\n",
      "Epoch 10/10\n",
      "10/10 [==============================] - 95s 9s/step - loss: 0.0351 - acc: 0.9859 - val_loss: 0.4405 - val_acc: 1.0000\n"
     ]
    }
   ],
   "source": [
    "history = model.fit_generator(generator = training_generator, \n",
    "                              steps_per_epoch= 10, \n",
    "                              epochs=10, validation_data=test_generator, \n",
    "                                  validation_steps = 10\n",
    "                                )"
   ]
  },
  {
   "cell_type": "code",
   "execution_count": 43,
   "metadata": {},
   "outputs": [
    {
     "data": {
      "image/png": "[encoded data removed]",
      "text/plain": [
       "<Figure size 864x576 with 1 Axes>"
      ]
     },
     "metadata": {},
     "output_type": "display_data"
    }
   ],
   "source": [
    "# Check out our train loss and test loss over epochs.\n",
    "train_loss = history.history['loss']\n",
    "test_loss = history.history['val_loss']\n",
    "\n",
    "# Set figure size.\n",
    "plt.figure(figsize=(12, 8))\n",
    "\n",
    "# Generate line plot of training, testing loss over epochs.\n",
    "plt.plot(train_loss, label='Training Loss', color='#185fad')\n",
    "plt.plot(test_loss, label='Testing Loss', color='orange')\n",
    "\n",
    "# Set title\n",
    "plt.title('Training and Testing Loss by Epoch', fontsize = 25)\n",
    "plt.xlabel('Epoch', fontsize = 18)\n",
    "plt.ylabel('Binary Crossentropy', fontsize = 18)\n",
    "plt.xticks(range(10))\n",
    "\n",
    "plt.legend(fontsize = 18);"
   ]
  },
  {
   "cell_type": "code",
   "execution_count": 44,
   "metadata": {},
   "outputs": [
    {
     "name": "stdout",
     "output_type": "stream",
     "text": [
      "10/10 [==============================] - 15s 1s/step\n",
      "loss: 0.4406939119100571\n",
      "acc: 1.0\n"
     ]
    }
   ],
   "source": [
    "#Testing \n",
    "metric = model.evaluate_generator(test_generator, steps=10, verbose=1)\n",
    "\n",
    "\n",
    "\n",
    "labels = model.metrics_names\n",
    "\n",
    "\n",
    "# Show model performance.\n",
    "print(f'{labels[0]}: {metric[0]}')\n",
    "print(f'{labels[1]}: {metric[1]}')"
   ]
  },
  {
   "cell_type": "code",
   "execution_count": 49,
   "metadata": {},
   "outputs": [
    {
     "data": {
      "text/plain": [
       "'acc'"
      ]
     },
     "execution_count": 49,
     "metadata": {},
     "output_type": "execute_result"
    }
   ],
   "source": [
    "model.metrics_names[1]"
   ]
  },
  {
   "cell_type": "code",
   "execution_count": 45,
   "metadata": {},
   "outputs": [
    {
     "name": "stdout",
     "output_type": "stream",
     "text": [
      "10/10 [==============================] - 15s 1s/step\n"
     ]
    }
   ],
   "source": [
    "preds  = model.predict_generator(test_generator, steps=10, verbose=1)"
   ]
  },
  {
   "cell_type": "code",
   "execution_count": 46,
   "metadata": {},
   "outputs": [
    {
     "data": {
      "text/plain": [
       "array([0.6503249, 0.6250074, 0.6492912, 0.6528501], dtype=float32)"
      ]
     },
     "execution_count": 46,
     "metadata": {},
     "output_type": "execute_result"
    }
   ],
   "source": [
    "preds[0]"
   ]
  },
  {
   "cell_type": "code",
   "execution_count": 32,
   "metadata": {},
   "outputs": [
    {
     "data": {
      "text/plain": [
       "array([[0.7197881 , 0.72266984, 0.7386592 , 0.7493378 ],\n",
       "       [0.7201949 , 0.7233882 , 0.73543596, 0.7489402 ],\n",
       "       [0.71992403, 0.72208965, 0.7367119 , 0.7491838 ],\n",
       "       ...,\n",
       "       [0.7200471 , 0.7244565 , 0.7364509 , 0.7483691 ],\n",
       "       [0.7211136 , 0.72337186, 0.7361222 , 0.749495  ],\n",
       "       [0.71754515, 0.7213573 , 0.7352272 , 0.74740976]], dtype=float32)"
      ]
     },
     "execution_count": 32,
     "metadata": {},
     "output_type": "execute_result"
    }
   ],
   "source": [
    "preds"
   ]
  },
  {
   "cell_type": "code",
   "execution_count": 34,
   "metadata": {},
   "outputs": [
    {
     "data": {
      "text/plain": [
       "{',': 0, '.': 1, '0': 2, '1': 3}"
      ]
     },
     "execution_count": 34,
     "metadata": {},
     "output_type": "execute_result"
    }
   ],
   "source": [
    "test_generator.class_indices"
   ]
  },
  {
   "cell_type": "code",
   "execution_count": 35,
   "metadata": {},
   "outputs": [
    {
     "name": "stderr",
     "output_type": "stream",
     "text": [
      "/anaconda3/lib/python3.6/site-packages/keras_preprocessing/image/utils.py:98: UserWarning: grayscale is deprecated. Please use color_mode = \"grayscale\"\n",
      "  warnings.warn('grayscale is deprecated. Please use '\n"
     ]
    },
    {
     "data": {
      "text/plain": [
       "'Yes'"
      ]
     },
     "execution_count": 35,
     "metadata": {},
     "output_type": "execute_result"
    }
   ],
   "source": [
    "# https://stackoverflow.com/questions/50988050/cnn-training-accuracy-is-1-0-and-validation-accuracy-is-1-0-prediction-return\n",
    "\n",
    "\n",
    "import numpy as np\n",
    "from keras.preprocessing import image\n",
    "\n",
    "\n",
    "test_image = image.load_img('/Users/patrickcavins/Downloads/imgsrv.fcgi.png', grayscale = True, target_size = (300, 300,1))\n",
    "test_image = image.img_to_array(test_image)\n",
    "test_image = np.expand_dims(test_image, axis = 0)\n",
    "result = model.predict(test_image)\n",
    "training_generator.class_indices\n",
    "if result[0][0] == 1:\n",
    "    prediction = 'Yes'\n",
    "else:\n",
    "    prediction = 'No'\n",
    "    \n",
    "prediction"
   ]
  },
  {
   "cell_type": "code",
   "execution_count": null,
   "metadata": {},
   "outputs": [],
   "source": [
    "# batch normalization \n",
    "# add dropout \n",
    "# "
   ]
  }
 ],
 "metadata": {
  "kernelspec": {
   "display_name": "Python 3",
   "language": "python",
   "name": "python3"
  },
  "language_info": {
   "codemirror_mode": {
    "name": "ipython",
    "version": 3
   },
   "file_extension": ".py",
   "mimetype": "text/x-python",
   "name": "python",
   "nbconvert_exporter": "python",
   "pygments_lexer": "ipython3",
   "version": "3.6.5"
  }
 },
 "nbformat": 4,
 "nbformat_minor": 2
}
