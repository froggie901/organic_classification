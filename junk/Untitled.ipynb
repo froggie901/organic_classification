{
 "cells": [
  {
   "cell_type": "code",
   "execution_count": null,
   "metadata": {},
   "outputs": [],
   "source": [
    "test_features = test_features.assign(label = list(test_features['AKA'].astype(\"str\") + \n",
    "                                                ',' + test_features['AKE'].astype('str') + \n",
    "                                                ','+ test_features['ring'].astype(\"str\") + \n",
    "                                                ',' + test_features['BNZ'].astype('str') + \n",
    "                                                ',' + test_features['AKH'].astype('str') +\n",
    "                                                ',' + test_features['AKY'].astype('str') + \n",
    "                                                ',' + test_features['ALC'].astype('str') +\n",
    "                                                ',' + test_features['AMN'].astype('str') +\n",
    "                                                ',' + test_features['BNZ'].astype('str') +\n",
    "                                                ',' + test_features['COC'].astype('str') +\n",
    "                                                ',' + test_features['COH'].astype('str') +\n",
    "                                                ',' + test_features['COO'].astype('str') +\n",
    "                                                ',' + test_features['COONH2'].astype('str') +\n",
    "                                                ',' + test_features['KEY'].astype('str') +\n",
    "                                                ',' + test_features['OH'].astype('str') + \n",
    "                                                ',' + test_features['SHH'].astype('str')))"
   ]
  }
 ],
 "metadata": {
  "kernelspec": {
   "display_name": "Python 3",
   "language": "python",
   "name": "python3"
  },
  "language_info": {
   "codemirror_mode": {
    "name": "ipython",
    "version": 3
   },
   "file_extension": ".py",
   "mimetype": "text/x-python",
   "name": "python",
   "nbconvert_exporter": "python",
   "pygments_lexer": "ipython3",
   "version": "3.6.5"
  }
 },
 "nbformat": 4,
 "nbformat_minor": 2
}
